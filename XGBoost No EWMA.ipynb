{
 "cells": [
  {
   "cell_type": "markdown",
   "metadata": {},
   "source": [
    "# Import libraries"
   ]
  },
  {
   "cell_type": "code",
   "execution_count": 1,
   "metadata": {},
   "outputs": [],
   "source": [
    "import os\n",
    "mingw_path = 'C:\\\\Program Files\\\\mingw-w64\\\\x86_64-7.2.0-posix-seh-rt_v5-rev1\\\\mingw64\\\\bin'\n",
    "os.environ['PATH'] = mingw_path + ';' + os.environ['PATH']\n",
    "\n",
    "import pandas as pd\n",
    "import numpy as np\n",
    "import matplotlib.pyplot as plt\n",
    "import xgboost as xgb\n",
    "from sklearn.preprocessing import LabelEncoder\n",
    "import gc # Note: this is a garbage collector\n",
    "%matplotlib inline\n",
    "\n",
    "import warnings\n",
    "warnings.filterwarnings('ignore') "
   ]
  },
  {
   "cell_type": "markdown",
   "metadata": {},
   "source": [
    "# Bring in data"
   ]
  },
  {
   "cell_type": "code",
   "execution_count": 2,
   "metadata": {},
   "outputs": [],
   "source": [
    "PATH = r\"..\\Raw_Data\""
   ]
  },
  {
   "cell_type": "code",
   "execution_count": 3,
   "metadata": {},
   "outputs": [],
   "source": [
    "data = {\n",
    "    'airStore':  pd.read_csv(PATH + r\"\\air_store_info.csv\"),\n",
    "    'airVisit':  pd.read_csv(PATH + r\"\\air_visit_data.csv\"),\n",
    "    'date':      pd.read_csv(PATH + r\"\\date_info.csv\"),\n",
    "    'sampleSub': pd.read_csv(PATH + r\"\\sample_submission.csv\"),\n",
    "    'storeIDs':  pd.read_csv(PATH + r\"\\store_id_relation.csv\")    \n",
    "}"
   ]
  },
  {
   "cell_type": "markdown",
   "metadata": {},
   "source": [
    "# Preprocess data"
   ]
  },
  {
   "cell_type": "code",
   "execution_count": 4,
   "metadata": {},
   "outputs": [
    {
     "data": {
      "text/plain": [
       "'2017-04-22'"
      ]
     },
     "execution_count": 4,
     "metadata": {},
     "output_type": "execute_result"
    }
   ],
   "source": [
    "data['airVisit']['visit_date'].max()"
   ]
  },
  {
   "cell_type": "code",
   "execution_count": 5,
   "metadata": {},
   "outputs": [],
   "source": [
    "data['date']['visit_date'] = pd.to_datetime(data['date']['calendar_date'])\n",
    "data['date'].drop('calendar_date', axis = 1 , inplace=True)"
   ]
  },
  {
   "cell_type": "code",
   "execution_count": 6,
   "metadata": {},
   "outputs": [],
   "source": [
    "data['airVisit']['visit_date'] = pd.to_datetime(data['airVisit']['visit_date'])\n",
    "data['airVisit']['dow'] = data['airVisit']['visit_date'].dt.dayofweek\n",
    "data['airVisit']['year'] = data['airVisit']['visit_date'].dt.year\n",
    "data['airVisit']['month'] = data['airVisit']['visit_date'].dt.month"
   ]
  },
  {
   "cell_type": "markdown",
   "metadata": {},
   "source": [
    "## Add EWMA of visits as feature"
   ]
  },
  {
   "cell_type": "markdown",
   "metadata": {},
   "source": [
    "Function to calculate ewm (note, found this on the competition discussion forum):"
   ]
  },
  {
   "cell_type": "code",
   "execution_count": 7,
   "metadata": {},
   "outputs": [],
   "source": [
    "def calc_shifted_ewm(series, alpha, adjust = True):\n",
    "    return series.shift().ewm(alpha = alpha, adjust = adjust).mean()"
   ]
  },
  {
   "cell_type": "code",
   "execution_count": 8,
   "metadata": {},
   "outputs": [],
   "source": [
    "# Step below adds the ewm by day of week. Right now I'm returning a separate series so I can look at what each step does if I want to\n",
    "tmp = data['airVisit'].groupby(['air_store_id','dow']).apply(lambda x: calc_shifted_ewm(x['visitors'], 0.1)) \n",
    "# This step backfills the 1st week's dow for each restaurant, otherwise it would be NaN since it's a 1-period ewma\n",
    "tmp = tmp.fillna(method='bfill')\n",
    "# The groupby function returns a multiIndex Series. I only need the 3rd level (original df index) to add column to original df\n",
    "tmp.index = tmp.index.get_level_values(2)\n",
    "# Sort index before adding back to original df\n",
    "tmp = tmp.sort_index()"
   ]
  },
  {
   "cell_type": "code",
   "execution_count": 9,
   "metadata": {},
   "outputs": [],
   "source": [
    "data['airVisit']['ewma'] = tmp"
   ]
  },
  {
   "cell_type": "markdown",
   "metadata": {},
   "source": [
    "## Add 'days since last' and 'days until next' holiday"
   ]
  },
  {
   "cell_type": "code",
   "execution_count": 10,
   "metadata": {},
   "outputs": [],
   "source": [
    "# Create a 'days since holiday' feature\n",
    "daysSinceList = []\n",
    "daysSinceHol = 0 # initialize daysSince counter\n",
    "for row in data['date']['holiday_flg']:\n",
    "    if row == 1:\n",
    "        daysSinceHol = 0\n",
    "        daysSinceList.append(daysSinceHol)\n",
    "    else:\n",
    "        daysSinceHol += 1\n",
    "        daysSinceList.append(daysSinceHol)\n",
    "data['date']['days_since_holiday'] = daysSinceList"
   ]
  },
  {
   "cell_type": "code",
   "execution_count": 11,
   "metadata": {},
   "outputs": [],
   "source": [
    "# Create a 'days UNTIL next holiday' feature\n",
    "holidayList = list(data['date']['holiday_flg'])\n",
    "daysUntilHolList = np.zeros(len(holidayList),dtype=np.int)\n",
    "daysUntilHol = 0 # initialize daysUntilHol counter\n",
    "for i in range(len(holidayList)-1,0,-1):\n",
    "    if holidayList[i] == 1:\n",
    "        daysUntilHol = 0\n",
    "        daysUntilHolList[i] = daysUntilHol\n",
    "    else:\n",
    "        daysUntilHol += 1\n",
    "        daysUntilHolList[i] = daysUntilHol        \n",
    "data['date']['days_until_holiday'] = daysUntilHolList"
   ]
  },
  {
   "cell_type": "markdown",
   "metadata": {},
   "source": [
    "## Merge air_visits with date dframe to get holiday info"
   ]
  },
  {
   "cell_type": "code",
   "execution_count": 12,
   "metadata": {},
   "outputs": [],
   "source": [
    "colsToMerge = ['holiday_flg','visit_date','days_until_holiday','days_since_holiday']\n",
    "df_train = pd.merge(data['airVisit'], data['date'][colsToMerge], how = 'left', on = 'visit_date')"
   ]
  },
  {
   "cell_type": "markdown",
   "metadata": {},
   "source": [
    "## Filter only the stores that must be predicted"
   ]
  },
  {
   "cell_type": "code",
   "execution_count": 13,
   "metadata": {},
   "outputs": [],
   "source": [
    "df_test = data['sampleSub']\n",
    "\n",
    "df_test['visit_date'] = df_test['id'].map(lambda x: str(x).split('_')[2])\n",
    "df_test['air_store_id'] = df_test['id'].map(lambda x: '_'.join(str(x).split('_')[:2]))\n",
    "df_test['visit_date'] = pd.to_datetime(df_test['visit_date'])\n",
    "df_test['dow'] = df_test['visit_date'].dt.dayofweek\n",
    "df_test['year'] = df_test['visit_date'].dt.year\n",
    "df_test['month'] = df_test['visit_date'].dt.month\n",
    "\n",
    "unique_stores = df_test['air_store_id'].unique()\n",
    "stores = pd.concat([pd.DataFrame({'air_store_id': unique_stores, 'dow': [i]*len(unique_stores)}) for i in range(7)], axis=0, ignore_index=True).reset_index(drop=True)\n",
    "#stores.head()"
   ]
  },
  {
   "cell_type": "markdown",
   "metadata": {},
   "source": [
    "## Merge df_test with date dframe to get holiday info"
   ]
  },
  {
   "cell_type": "code",
   "execution_count": 14,
   "metadata": {},
   "outputs": [],
   "source": [
    "df_test = pd.merge(df_test, data['date'][colsToMerge], how = 'left', on = 'visit_date')"
   ]
  },
  {
   "cell_type": "code",
   "execution_count": 15,
   "metadata": {},
   "outputs": [],
   "source": [
    "stores = pd.merge(stores, data['airStore'], how='left', on=['air_store_id'])\n",
    "#stores.head()"
   ]
  },
  {
   "cell_type": "code",
   "execution_count": 16,
   "metadata": {},
   "outputs": [],
   "source": [
    "# Encode categorical string variables \n",
    "lbl = LabelEncoder()\n",
    "stores['air_genre_name'] = lbl.fit_transform(stores['air_genre_name'])\n",
    "stores['air_area_name'] = lbl.fit_transform(stores['air_area_name'])"
   ]
  },
  {
   "cell_type": "markdown",
   "metadata": {},
   "source": [
    "### Add genre and area to train and test data"
   ]
  },
  {
   "cell_type": "code",
   "execution_count": 17,
   "metadata": {},
   "outputs": [],
   "source": [
    "df_train = pd.merge(df_train, stores, how = 'left', on = ['air_store_id','dow'])"
   ]
  },
  {
   "cell_type": "markdown",
   "metadata": {},
   "source": [
    "### Add visitor statistics as features"
   ]
  },
  {
   "cell_type": "code",
   "execution_count": 18,
   "metadata": {},
   "outputs": [],
   "source": [
    "tmp = df_train.groupby(['air_store_id','dow']).agg({'visitors' : [np.min,np.mean,np.median,np.max,np.size]}).reset_index()\n",
    "tmp.columns = ['air_store_id', 'dow', 'min_visitors', 'mean_visitors', 'median_visitors','max_visitors','count_observations']\n",
    "df_train = pd.merge(df_train, tmp, how='left', on=['air_store_id','dow'])"
   ]
  },
  {
   "cell_type": "code",
   "execution_count": 19,
   "metadata": {},
   "outputs": [],
   "source": [
    "df_test = pd.merge(df_test, stores, how = 'left', on = ['air_store_id','dow'])"
   ]
  },
  {
   "cell_type": "code",
   "execution_count": 20,
   "metadata": {},
   "outputs": [],
   "source": [
    "df_test = pd.merge(df_test, tmp, how='left', on=['air_store_id','dow'])"
   ]
  },
  {
   "cell_type": "markdown",
   "metadata": {},
   "source": [
    "Note: For XGB, didn't fillna (1/28/2018)\n",
    "Other algorithms need fillna. TODO: 1) investigate why there are NaN on train set. 2) Check if XGBoost gets better score with fillna"
   ]
  },
  {
   "cell_type": "code",
   "execution_count": 21,
   "metadata": {},
   "outputs": [],
   "source": [
    "df_train = df_train.fillna(-1)\n",
    "df_test = df_test.fillna(-1)"
   ]
  },
  {
   "cell_type": "code",
   "execution_count": 23,
   "metadata": {},
   "outputs": [],
   "source": [
    "train = df_train\n",
    "test = df_test\n",
    "col = [c for c in train if c not in ['id', 'air_store_id','visit_date','visitors']]"
   ]
  },
  {
   "cell_type": "code",
   "execution_count": 39,
   "metadata": {},
   "outputs": [
    {
     "data": {
      "text/html": [
       "<div>\n",
       "<table border=\"1\" class=\"dataframe\">\n",
       "  <thead>\n",
       "    <tr style=\"text-align: right;\">\n",
       "      <th></th>\n",
       "      <th>id</th>\n",
       "      <th>visitors</th>\n",
       "      <th>visit_date</th>\n",
       "      <th>air_store_id</th>\n",
       "      <th>dow</th>\n",
       "      <th>year</th>\n",
       "      <th>month</th>\n",
       "      <th>holiday_flg</th>\n",
       "      <th>days_until_holiday</th>\n",
       "      <th>days_since_holiday</th>\n",
       "      <th>air_genre_name</th>\n",
       "      <th>air_area_name</th>\n",
       "      <th>latitude</th>\n",
       "      <th>longitude</th>\n",
       "      <th>min_visitors</th>\n",
       "      <th>mean_visitors</th>\n",
       "      <th>median_visitors</th>\n",
       "      <th>max_visitors</th>\n",
       "      <th>count_observations</th>\n",
       "    </tr>\n",
       "    <tr>\n",
       "      <th>visit_date</th>\n",
       "      <th></th>\n",
       "      <th></th>\n",
       "      <th></th>\n",
       "      <th></th>\n",
       "      <th></th>\n",
       "      <th></th>\n",
       "      <th></th>\n",
       "      <th></th>\n",
       "      <th></th>\n",
       "      <th></th>\n",
       "      <th></th>\n",
       "      <th></th>\n",
       "      <th></th>\n",
       "      <th></th>\n",
       "      <th></th>\n",
       "      <th></th>\n",
       "      <th></th>\n",
       "      <th></th>\n",
       "      <th></th>\n",
       "    </tr>\n",
       "  </thead>\n",
       "  <tbody>\n",
       "    <tr>\n",
       "      <th>2017-04-23</th>\n",
       "      <td>air_00a91d42b08b08d9_2017-04-23</td>\n",
       "      <td>0</td>\n",
       "      <td>2017-04-23</td>\n",
       "      <td>air_00a91d42b08b08d9</td>\n",
       "      <td>6</td>\n",
       "      <td>2017</td>\n",
       "      <td>4</td>\n",
       "      <td>0</td>\n",
       "      <td>6</td>\n",
       "      <td>34</td>\n",
       "      <td>6</td>\n",
       "      <td>44</td>\n",
       "      <td>35.694004</td>\n",
       "      <td>139.753601</td>\n",
       "      <td>2.0</td>\n",
       "      <td>2.000000</td>\n",
       "      <td>2.0</td>\n",
       "      <td>2.0</td>\n",
       "      <td>1.0</td>\n",
       "    </tr>\n",
       "    <tr>\n",
       "      <th>2017-04-24</th>\n",
       "      <td>air_00a91d42b08b08d9_2017-04-24</td>\n",
       "      <td>0</td>\n",
       "      <td>2017-04-24</td>\n",
       "      <td>air_00a91d42b08b08d9</td>\n",
       "      <td>0</td>\n",
       "      <td>2017</td>\n",
       "      <td>4</td>\n",
       "      <td>0</td>\n",
       "      <td>5</td>\n",
       "      <td>35</td>\n",
       "      <td>6</td>\n",
       "      <td>44</td>\n",
       "      <td>35.694004</td>\n",
       "      <td>139.753601</td>\n",
       "      <td>1.0</td>\n",
       "      <td>22.457144</td>\n",
       "      <td>19.0</td>\n",
       "      <td>47.0</td>\n",
       "      <td>35.0</td>\n",
       "    </tr>\n",
       "    <tr>\n",
       "      <th>2017-04-25</th>\n",
       "      <td>air_00a91d42b08b08d9_2017-04-25</td>\n",
       "      <td>0</td>\n",
       "      <td>2017-04-25</td>\n",
       "      <td>air_00a91d42b08b08d9</td>\n",
       "      <td>1</td>\n",
       "      <td>2017</td>\n",
       "      <td>4</td>\n",
       "      <td>0</td>\n",
       "      <td>4</td>\n",
       "      <td>36</td>\n",
       "      <td>6</td>\n",
       "      <td>44</td>\n",
       "      <td>35.694004</td>\n",
       "      <td>139.753601</td>\n",
       "      <td>1.0</td>\n",
       "      <td>24.350000</td>\n",
       "      <td>24.5</td>\n",
       "      <td>43.0</td>\n",
       "      <td>40.0</td>\n",
       "    </tr>\n",
       "    <tr>\n",
       "      <th>2017-04-26</th>\n",
       "      <td>air_00a91d42b08b08d9_2017-04-26</td>\n",
       "      <td>0</td>\n",
       "      <td>2017-04-26</td>\n",
       "      <td>air_00a91d42b08b08d9</td>\n",
       "      <td>2</td>\n",
       "      <td>2017</td>\n",
       "      <td>4</td>\n",
       "      <td>0</td>\n",
       "      <td>3</td>\n",
       "      <td>37</td>\n",
       "      <td>6</td>\n",
       "      <td>44</td>\n",
       "      <td>35.694004</td>\n",
       "      <td>139.753601</td>\n",
       "      <td>15.0</td>\n",
       "      <td>28.125000</td>\n",
       "      <td>28.0</td>\n",
       "      <td>52.0</td>\n",
       "      <td>40.0</td>\n",
       "    </tr>\n",
       "    <tr>\n",
       "      <th>2017-04-27</th>\n",
       "      <td>air_00a91d42b08b08d9_2017-04-27</td>\n",
       "      <td>0</td>\n",
       "      <td>2017-04-27</td>\n",
       "      <td>air_00a91d42b08b08d9</td>\n",
       "      <td>3</td>\n",
       "      <td>2017</td>\n",
       "      <td>4</td>\n",
       "      <td>0</td>\n",
       "      <td>2</td>\n",
       "      <td>38</td>\n",
       "      <td>6</td>\n",
       "      <td>44</td>\n",
       "      <td>35.694004</td>\n",
       "      <td>139.753601</td>\n",
       "      <td>15.0</td>\n",
       "      <td>29.868422</td>\n",
       "      <td>30.0</td>\n",
       "      <td>47.0</td>\n",
       "      <td>38.0</td>\n",
       "    </tr>\n",
       "  </tbody>\n",
       "</table>\n",
       "</div>"
      ],
      "text/plain": [
       "                                         id  visitors visit_date  \\\n",
       "visit_date                                                         \n",
       "2017-04-23  air_00a91d42b08b08d9_2017-04-23         0 2017-04-23   \n",
       "2017-04-24  air_00a91d42b08b08d9_2017-04-24         0 2017-04-24   \n",
       "2017-04-25  air_00a91d42b08b08d9_2017-04-25         0 2017-04-25   \n",
       "2017-04-26  air_00a91d42b08b08d9_2017-04-26         0 2017-04-26   \n",
       "2017-04-27  air_00a91d42b08b08d9_2017-04-27         0 2017-04-27   \n",
       "\n",
       "                    air_store_id  dow  year  month  holiday_flg  \\\n",
       "visit_date                                                        \n",
       "2017-04-23  air_00a91d42b08b08d9    6  2017      4            0   \n",
       "2017-04-24  air_00a91d42b08b08d9    0  2017      4            0   \n",
       "2017-04-25  air_00a91d42b08b08d9    1  2017      4            0   \n",
       "2017-04-26  air_00a91d42b08b08d9    2  2017      4            0   \n",
       "2017-04-27  air_00a91d42b08b08d9    3  2017      4            0   \n",
       "\n",
       "            days_until_holiday  days_since_holiday  air_genre_name  \\\n",
       "visit_date                                                           \n",
       "2017-04-23                   6                  34               6   \n",
       "2017-04-24                   5                  35               6   \n",
       "2017-04-25                   4                  36               6   \n",
       "2017-04-26                   3                  37               6   \n",
       "2017-04-27                   2                  38               6   \n",
       "\n",
       "            air_area_name   latitude   longitude  min_visitors  mean_visitors  \\\n",
       "visit_date                                                                      \n",
       "2017-04-23             44  35.694004  139.753601           2.0       2.000000   \n",
       "2017-04-24             44  35.694004  139.753601           1.0      22.457144   \n",
       "2017-04-25             44  35.694004  139.753601           1.0      24.350000   \n",
       "2017-04-26             44  35.694004  139.753601          15.0      28.125000   \n",
       "2017-04-27             44  35.694004  139.753601          15.0      29.868422   \n",
       "\n",
       "            median_visitors  max_visitors  count_observations  \n",
       "visit_date                                                     \n",
       "2017-04-23              2.0           2.0                 1.0  \n",
       "2017-04-24             19.0          47.0                35.0  \n",
       "2017-04-25             24.5          43.0                40.0  \n",
       "2017-04-26             28.0          52.0                40.0  \n",
       "2017-04-27             30.0          47.0                38.0  "
      ]
     },
     "execution_count": 39,
     "metadata": {},
     "output_type": "execute_result"
    }
   ],
   "source": [
    "test.head()"
   ]
  },
  {
   "cell_type": "markdown",
   "metadata": {},
   "source": [
    "# Initialize XGBoost\n",
    "Note - code based on:\n",
    "https://www.kaggle.com/jmbull/no-xgb-starter-here-s-one-lb-507"
   ]
  },
  {
   "cell_type": "code",
   "execution_count": 24,
   "metadata": {},
   "outputs": [
    {
     "name": "stdout",
     "output_type": "stream",
     "text": [
      "Binding to float32\n"
     ]
    }
   ],
   "source": [
    "# XGB starter template borrowed from @anokas\n",
    "# https://www.kaggle.com/anokas/simple-xgboost-starter-0-0655\n",
    "\n",
    "print('Binding to float32')\n",
    "\n",
    "for c, dtype in zip(df_train.columns, train.dtypes):\n",
    "    if dtype == np.float64:\n",
    "        train[c] = train[c].astype(np.float32)\n",
    "        \n",
    "for c, dtype in zip(df_test.columns, test.dtypes):\n",
    "    if dtype == np.float64:\n",
    "        test[c] = test[c].astype(np.float32)"
   ]
  },
  {
   "cell_type": "markdown",
   "metadata": {},
   "source": [
    "### Use cell below for validation using same weeks as test set but in the 2016 year"
   ]
  },
  {
   "cell_type": "code",
   "execution_count": 25,
   "metadata": {},
   "outputs": [],
   "source": [
    "# Create training / validation split based on weeks in test set\n",
    "x_train_setup = train.set_index('visit_date')\n",
    "\n",
    "x_valid = x_train_setup['2016-04-23':'2016-05-31'].reset_index()\n",
    "x_train = pd.concat([x_train_setup['2016-01-01':'2016-04-22'],\n",
    "                     x_train_setup['2016-05-01':'2017-04-22']]).reset_index()\n",
    "\n",
    "# Note: taking the absolute values makes the training take a VERY long time. I will instead take the log values\n",
    "y_train = x_train['visitors']\n",
    "y_valid = x_valid['visitors']\n",
    "\n",
    "#y_train = np.log1p(x_train['visitors'].values)\n",
    "#y_valid = np.log1p(x_valid['visitors'].values)\n",
    "\n",
    "x_train = x_train.drop(['air_store_id','visit_date','visitors','ewma'], axis=1)\n",
    "x_valid = x_valid.drop(['air_store_id','visit_date','visitors','ewma'], axis=1)\n",
    "\n",
    "# Get Column order for x_test df\n",
    "colOrder = x_train.columns"
   ]
  },
  {
   "cell_type": "markdown",
   "metadata": {},
   "source": [
    "### Use cell below for validation using split based on last rows in train dataframe"
   ]
  },
  {
   "cell_type": "code",
   "execution_count": 26,
   "metadata": {},
   "outputs": [],
   "source": [
    "#x_train = train.drop(['air_store_id','visit_date','visitors'], axis=1)\n",
    "#y_train = np.log1p(train['visitors'].values)\n",
    "\n",
    "# Get Column order for x_test df\n",
    "#colOrder = x_train.columns"
   ]
  },
  {
   "cell_type": "code",
   "execution_count": 27,
   "metadata": {},
   "outputs": [],
   "source": [
    "# Create training / validation split\n",
    "#split = 200000\n",
    "#x_train, y_train, x_valid, y_valid = x_train[:split], y_train[:split], x_train[split:], y_train[split:]\n",
    "\n",
    "#print('Building DMatrix...')"
   ]
  },
  {
   "cell_type": "code",
   "execution_count": 28,
   "metadata": {},
   "outputs": [],
   "source": [
    "d_train = xgb.DMatrix(x_train, label=y_train)\n",
    "d_valid = xgb.DMatrix(x_valid, label=y_valid)\n",
    "\n",
    "#del x_train, x_valid; gc.collect()"
   ]
  },
  {
   "cell_type": "code",
   "execution_count": 29,
   "metadata": {},
   "outputs": [
    {
     "name": "stdout",
     "output_type": "stream",
     "text": [
      "Training ...\n",
      "[0]\ttrain-rmse:25.5606\tvalid-rmse:27.1448\n",
      "Multiple eval metrics have been passed: 'valid-rmse' will be used for early stopping.\n",
      "\n",
      "Will train until valid-rmse hasn't improved in 100 rounds.\n",
      "[100]\ttrain-rmse:10.8041\tvalid-rmse:11.5663\n",
      "[200]\ttrain-rmse:10.5413\tvalid-rmse:11.1436\n",
      "[300]\ttrain-rmse:10.3738\tvalid-rmse:10.9049\n",
      "[400]\ttrain-rmse:10.2403\tvalid-rmse:10.7702\n",
      "[500]\ttrain-rmse:10.1255\tvalid-rmse:10.6269\n",
      "[600]\ttrain-rmse:10.0411\tvalid-rmse:10.5659\n",
      "[700]\ttrain-rmse:9.96551\tvalid-rmse:10.4779\n",
      "[800]\ttrain-rmse:9.8962\tvalid-rmse:10.3402\n",
      "[900]\ttrain-rmse:9.82988\tvalid-rmse:10.283\n",
      "[1000]\ttrain-rmse:9.77936\tvalid-rmse:10.189\n",
      "[1100]\ttrain-rmse:9.7286\tvalid-rmse:10.1329\n",
      "[1200]\ttrain-rmse:9.68415\tvalid-rmse:10.0863\n",
      "[1300]\ttrain-rmse:9.63906\tvalid-rmse:10.0306\n",
      "[1400]\ttrain-rmse:9.59979\tvalid-rmse:9.976\n",
      "[1500]\ttrain-rmse:9.56391\tvalid-rmse:9.92684\n",
      "[1600]\ttrain-rmse:9.53171\tvalid-rmse:9.88994\n",
      "[1700]\ttrain-rmse:9.49806\tvalid-rmse:9.84368\n",
      "[1800]\ttrain-rmse:9.46552\tvalid-rmse:9.79773\n",
      "[1900]\ttrain-rmse:9.43769\tvalid-rmse:9.75106\n",
      "[2000]\ttrain-rmse:9.40293\tvalid-rmse:9.72099\n",
      "[2100]\ttrain-rmse:9.37372\tvalid-rmse:9.70164\n",
      "[2200]\ttrain-rmse:9.3452\tvalid-rmse:9.64533\n",
      "[2300]\ttrain-rmse:9.31922\tvalid-rmse:9.62067\n",
      "[2400]\ttrain-rmse:9.28933\tvalid-rmse:9.58681\n",
      "[2500]\ttrain-rmse:9.26589\tvalid-rmse:9.54212\n",
      "[2600]\ttrain-rmse:9.24099\tvalid-rmse:9.50162\n",
      "[2700]\ttrain-rmse:9.21927\tvalid-rmse:9.46035\n",
      "[2800]\ttrain-rmse:9.19507\tvalid-rmse:9.42787\n",
      "[2900]\ttrain-rmse:9.17319\tvalid-rmse:9.408\n",
      "[3000]\ttrain-rmse:9.15485\tvalid-rmse:9.39288\n",
      "[3100]\ttrain-rmse:9.13525\tvalid-rmse:9.37887\n",
      "[3200]\ttrain-rmse:9.1106\tvalid-rmse:9.35412\n",
      "[3300]\ttrain-rmse:9.09172\tvalid-rmse:9.32682\n",
      "[3400]\ttrain-rmse:9.07736\tvalid-rmse:9.30761\n",
      "[3500]\ttrain-rmse:9.05597\tvalid-rmse:9.28553\n",
      "[3600]\ttrain-rmse:9.03814\tvalid-rmse:9.26559\n",
      "[3700]\ttrain-rmse:9.01943\tvalid-rmse:9.24843\n",
      "[3800]\ttrain-rmse:9.00218\tvalid-rmse:9.22595\n",
      "[3900]\ttrain-rmse:8.98273\tvalid-rmse:9.2083\n",
      "[4000]\ttrain-rmse:8.96409\tvalid-rmse:9.18449\n",
      "[4100]\ttrain-rmse:8.94551\tvalid-rmse:9.15712\n",
      "[4200]\ttrain-rmse:8.92712\tvalid-rmse:9.13366\n",
      "[4300]\ttrain-rmse:8.91016\tvalid-rmse:9.11024\n",
      "[4400]\ttrain-rmse:8.8945\tvalid-rmse:9.08972\n",
      "[4500]\ttrain-rmse:8.87812\tvalid-rmse:9.05018\n",
      "[4600]\ttrain-rmse:8.85887\tvalid-rmse:9.03235\n",
      "[4700]\ttrain-rmse:8.84222\tvalid-rmse:9.01388\n",
      "[4800]\ttrain-rmse:8.82755\tvalid-rmse:8.99757\n",
      "[4900]\ttrain-rmse:8.81122\tvalid-rmse:8.98585\n",
      "[5000]\ttrain-rmse:8.79549\tvalid-rmse:8.96707\n",
      "[5100]\ttrain-rmse:8.7821\tvalid-rmse:8.92419\n",
      "[5200]\ttrain-rmse:8.76855\tvalid-rmse:8.89946\n",
      "[5300]\ttrain-rmse:8.75416\tvalid-rmse:8.88627\n",
      "[5400]\ttrain-rmse:8.74148\tvalid-rmse:8.87853\n",
      "[5500]\ttrain-rmse:8.72763\tvalid-rmse:8.86864\n",
      "[5600]\ttrain-rmse:8.71255\tvalid-rmse:8.85142\n",
      "[5700]\ttrain-rmse:8.69661\tvalid-rmse:8.84263\n",
      "[5800]\ttrain-rmse:8.68264\tvalid-rmse:8.8217\n",
      "[5900]\ttrain-rmse:8.66844\tvalid-rmse:8.78487\n",
      "[6000]\ttrain-rmse:8.65553\tvalid-rmse:8.76425\n",
      "[6100]\ttrain-rmse:8.64302\tvalid-rmse:8.7453\n",
      "[6200]\ttrain-rmse:8.62923\tvalid-rmse:8.72153\n",
      "[6300]\ttrain-rmse:8.6151\tvalid-rmse:8.7095\n",
      "[6400]\ttrain-rmse:8.60215\tvalid-rmse:8.69899\n",
      "[6500]\ttrain-rmse:8.59019\tvalid-rmse:8.68308\n",
      "[6600]\ttrain-rmse:8.57898\tvalid-rmse:8.66897\n",
      "[6700]\ttrain-rmse:8.56516\tvalid-rmse:8.64854\n",
      "[6800]\ttrain-rmse:8.55228\tvalid-rmse:8.63504\n",
      "[6900]\ttrain-rmse:8.54063\tvalid-rmse:8.61893\n",
      "[7000]\ttrain-rmse:8.52888\tvalid-rmse:8.60658\n",
      "[7100]\ttrain-rmse:8.51704\tvalid-rmse:8.59357\n",
      "[7200]\ttrain-rmse:8.50593\tvalid-rmse:8.56681\n",
      "[7300]\ttrain-rmse:8.49335\tvalid-rmse:8.55721\n",
      "[7400]\ttrain-rmse:8.4794\tvalid-rmse:8.54482\n",
      "[7500]\ttrain-rmse:8.46863\tvalid-rmse:8.53491\n",
      "[7600]\ttrain-rmse:8.45769\tvalid-rmse:8.51589\n",
      "[7700]\ttrain-rmse:8.4476\tvalid-rmse:8.51131\n",
      "[7800]\ttrain-rmse:8.43375\tvalid-rmse:8.49887\n",
      "[7900]\ttrain-rmse:8.4219\tvalid-rmse:8.45955\n",
      "[8000]\ttrain-rmse:8.41232\tvalid-rmse:8.45113\n",
      "[8100]\ttrain-rmse:8.40236\tvalid-rmse:8.43949\n",
      "[8200]\ttrain-rmse:8.39017\tvalid-rmse:8.42231\n",
      "[8300]\ttrain-rmse:8.37883\tvalid-rmse:8.4111\n",
      "[8400]\ttrain-rmse:8.36693\tvalid-rmse:8.40243\n",
      "[8500]\ttrain-rmse:8.35902\tvalid-rmse:8.39407\n",
      "[8600]\ttrain-rmse:8.34894\tvalid-rmse:8.3855\n",
      "[8700]\ttrain-rmse:8.33943\tvalid-rmse:8.37376\n",
      "[8800]\ttrain-rmse:8.33093\tvalid-rmse:8.36228\n",
      "[8900]\ttrain-rmse:8.32191\tvalid-rmse:8.35597\n",
      "[9000]\ttrain-rmse:8.31174\tvalid-rmse:8.34076\n",
      "[9100]\ttrain-rmse:8.30241\tvalid-rmse:8.32944\n",
      "[9200]\ttrain-rmse:8.29336\tvalid-rmse:8.3195\n",
      "[9300]\ttrain-rmse:8.28479\tvalid-rmse:8.31161\n",
      "[9400]\ttrain-rmse:8.27287\tvalid-rmse:8.29127\n",
      "[9500]\ttrain-rmse:8.26235\tvalid-rmse:8.28028\n",
      "[9600]\ttrain-rmse:8.25253\tvalid-rmse:8.26836\n",
      "[9700]\ttrain-rmse:8.24242\tvalid-rmse:8.26151\n",
      "[9800]\ttrain-rmse:8.23074\tvalid-rmse:8.25244\n",
      "[9900]\ttrain-rmse:8.21944\tvalid-rmse:8.2359\n",
      "[9999]\ttrain-rmse:8.20892\tvalid-rmse:8.22217\n"
     ]
    }
   ],
   "source": [
    "print('Training ...')\n",
    "\n",
    "params = {}\n",
    "params['objective'] = 'reg:linear'\n",
    "params['eval_metric'] = 'rmse'\n",
    "params['eta'] = 0.04\n",
    "params['max_depth'] = 5\n",
    "params['silent'] = 1\n",
    "\n",
    "watchlist = [(d_train, 'train'), (d_valid, 'valid')]\n",
    "clf = xgb.train(params, d_train, 10000, watchlist, early_stopping_rounds=100, verbose_eval=100)\n",
    "\n",
    "#del d_train, d_valid"
   ]
  },
  {
   "cell_type": "code",
   "execution_count": 30,
   "metadata": {},
   "outputs": [],
   "source": [
    "#print(clf.feature_names)\n",
    "#xgb.plot_tree(clf, num_trees=0,rankdir='LR')\n",
    "#fig = plt.gcf()\n",
    "#fig.set_size_inches(150, 100)\n",
    "#fig.savefig('tree.png')"
   ]
  },
  {
   "cell_type": "code",
   "execution_count": 31,
   "metadata": {},
   "outputs": [
    {
     "data": {
      "text/plain": [
       "<matplotlib.axes._subplots.AxesSubplot at 0x16b9d320>"
      ]
     },
     "execution_count": 31,
     "metadata": {},
     "output_type": "execute_result"
    },
    {
     "data": {
      "image/png": "[encoded data removed]",
      "text/plain": [
       "<matplotlib.figure.Figure at 0x1bcc5080>"
      ]
     },
     "metadata": {},
     "output_type": "display_data"
    }
   ],
   "source": [
    "xgb.plot_importance(clf)"
   ]
  },
  {
   "cell_type": "markdown",
   "metadata": {},
   "source": [
    "# Save the XBoost trained model"
   ]
  },
  {
   "cell_type": "code",
   "execution_count": 32,
   "metadata": {},
   "outputs": [],
   "source": [
    "import pickle"
   ]
  },
  {
   "cell_type": "code",
   "execution_count": 32,
   "metadata": {},
   "outputs": [],
   "source": [
    "pickle.dump(clf, open(\"recruit_rest_xgb.pickle.dat\",\"wb\"))"
   ]
  },
  {
   "cell_type": "markdown",
   "metadata": {},
   "source": [
    "NOTE: To later retrieve the trained model, use command below: \n",
    "\n",
    "taken from:\n",
    "https://machinelearningmastery.com/save-gradient-boosting-models-xgboost-python/"
   ]
  },
  {
   "cell_type": "code",
   "execution_count": 33,
   "metadata": {},
   "outputs": [],
   "source": [
    "load_model = pickle.load(open(\"recruit_rest_xgb.pickle.dat\",\"rb\"))"
   ]
  },
  {
   "cell_type": "markdown",
   "metadata": {},
   "source": [
    "#### Use ewma feature in test set\n",
    "1. Assign ewma to 1st week of test set using last week of training\n",
    "2. Predict\n",
    "3. Calc ewma for 2nd week of test set\n",
    "4. predict again"
   ]
  },
  {
   "cell_type": "code",
   "execution_count": 34,
   "metadata": {},
   "outputs": [],
   "source": [
    "# Get dataframe for last week of training set and only use store\n",
    "x_train_lastWk = train[['air_store_id','visit_date','dow']]\n",
    "x_train_lastWk = x_train_lastWk[x_train_lastWk['visit_date'] > '2017-04-15']"
   ]
  },
  {
   "cell_type": "code",
   "execution_count": 35,
   "metadata": {},
   "outputs": [],
   "source": [
    "# Split test by weeks [note that weeks start on day 6 (Sunday) rather than day 0 (Monday)]\n",
    "test.index = test['visit_date']\n",
    "\n",
    "testWk1 = test['2017-04-23':'2017-04-29']\n",
    "testWk2 = test['2017-04-30':'2017-05-06']\n",
    "testWk3 = test['2017-05-07':'2017-05-13']\n",
    "testWk4 = test['2017-05-14':'2017-05-20']\n",
    "testWk5 = test['2017-05-21':'2017-05-27']\n",
    "testWk6 = test['2017-05-28':'2017-06-01']"
   ]
  },
  {
   "cell_type": "code",
   "execution_count": 36,
   "metadata": {},
   "outputs": [],
   "source": [
    "testWk1_pred = pd.merge(testWk1, x_train_lastWk.drop('visit_date',axis=1),how='left',on=['air_store_id','dow'])"
   ]
  },
  {
   "cell_type": "code",
   "execution_count": 37,
   "metadata": {},
   "outputs": [],
   "source": [
    "#testWk1_pred['ewma'] = testWk1_pred['ewma'].fillna(value=0)"
   ]
  },
  {
   "cell_type": "code",
   "execution_count": 38,
   "metadata": {},
   "outputs": [
    {
     "data": {
      "text/html": [
       "<div>\n",
       "<table border=\"1\" class=\"dataframe\">\n",
       "  <thead>\n",
       "    <tr style=\"text-align: right;\">\n",
       "      <th></th>\n",
       "      <th>id</th>\n",
       "      <th>visitors</th>\n",
       "      <th>visit_date</th>\n",
       "      <th>air_store_id</th>\n",
       "      <th>dow</th>\n",
       "      <th>year</th>\n",
       "      <th>month</th>\n",
       "      <th>holiday_flg</th>\n",
       "      <th>days_until_holiday</th>\n",
       "      <th>days_since_holiday</th>\n",
       "      <th>air_genre_name</th>\n",
       "      <th>air_area_name</th>\n",
       "      <th>latitude</th>\n",
       "      <th>longitude</th>\n",
       "      <th>min_visitors</th>\n",
       "      <th>mean_visitors</th>\n",
       "      <th>median_visitors</th>\n",
       "      <th>max_visitors</th>\n",
       "      <th>count_observations</th>\n",
       "    </tr>\n",
       "  </thead>\n",
       "  <tbody>\n",
       "    <tr>\n",
       "      <th>0</th>\n",
       "      <td>air_00a91d42b08b08d9_2017-04-23</td>\n",
       "      <td>0</td>\n",
       "      <td>2017-04-23</td>\n",
       "      <td>air_00a91d42b08b08d9</td>\n",
       "      <td>6</td>\n",
       "      <td>2017</td>\n",
       "      <td>4</td>\n",
       "      <td>0</td>\n",
       "      <td>6</td>\n",
       "      <td>34</td>\n",
       "      <td>6</td>\n",
       "      <td>44</td>\n",
       "      <td>35.694004</td>\n",
       "      <td>139.753601</td>\n",
       "      <td>2.0</td>\n",
       "      <td>2.000000</td>\n",
       "      <td>2.0</td>\n",
       "      <td>2.0</td>\n",
       "      <td>1.0</td>\n",
       "    </tr>\n",
       "    <tr>\n",
       "      <th>1</th>\n",
       "      <td>air_00a91d42b08b08d9_2017-04-24</td>\n",
       "      <td>0</td>\n",
       "      <td>2017-04-24</td>\n",
       "      <td>air_00a91d42b08b08d9</td>\n",
       "      <td>0</td>\n",
       "      <td>2017</td>\n",
       "      <td>4</td>\n",
       "      <td>0</td>\n",
       "      <td>5</td>\n",
       "      <td>35</td>\n",
       "      <td>6</td>\n",
       "      <td>44</td>\n",
       "      <td>35.694004</td>\n",
       "      <td>139.753601</td>\n",
       "      <td>1.0</td>\n",
       "      <td>22.457144</td>\n",
       "      <td>19.0</td>\n",
       "      <td>47.0</td>\n",
       "      <td>35.0</td>\n",
       "    </tr>\n",
       "    <tr>\n",
       "      <th>2</th>\n",
       "      <td>air_00a91d42b08b08d9_2017-04-25</td>\n",
       "      <td>0</td>\n",
       "      <td>2017-04-25</td>\n",
       "      <td>air_00a91d42b08b08d9</td>\n",
       "      <td>1</td>\n",
       "      <td>2017</td>\n",
       "      <td>4</td>\n",
       "      <td>0</td>\n",
       "      <td>4</td>\n",
       "      <td>36</td>\n",
       "      <td>6</td>\n",
       "      <td>44</td>\n",
       "      <td>35.694004</td>\n",
       "      <td>139.753601</td>\n",
       "      <td>1.0</td>\n",
       "      <td>24.350000</td>\n",
       "      <td>24.5</td>\n",
       "      <td>43.0</td>\n",
       "      <td>40.0</td>\n",
       "    </tr>\n",
       "    <tr>\n",
       "      <th>3</th>\n",
       "      <td>air_00a91d42b08b08d9_2017-04-26</td>\n",
       "      <td>0</td>\n",
       "      <td>2017-04-26</td>\n",
       "      <td>air_00a91d42b08b08d9</td>\n",
       "      <td>2</td>\n",
       "      <td>2017</td>\n",
       "      <td>4</td>\n",
       "      <td>0</td>\n",
       "      <td>3</td>\n",
       "      <td>37</td>\n",
       "      <td>6</td>\n",
       "      <td>44</td>\n",
       "      <td>35.694004</td>\n",
       "      <td>139.753601</td>\n",
       "      <td>15.0</td>\n",
       "      <td>28.125000</td>\n",
       "      <td>28.0</td>\n",
       "      <td>52.0</td>\n",
       "      <td>40.0</td>\n",
       "    </tr>\n",
       "    <tr>\n",
       "      <th>4</th>\n",
       "      <td>air_00a91d42b08b08d9_2017-04-27</td>\n",
       "      <td>0</td>\n",
       "      <td>2017-04-27</td>\n",
       "      <td>air_00a91d42b08b08d9</td>\n",
       "      <td>3</td>\n",
       "      <td>2017</td>\n",
       "      <td>4</td>\n",
       "      <td>0</td>\n",
       "      <td>2</td>\n",
       "      <td>38</td>\n",
       "      <td>6</td>\n",
       "      <td>44</td>\n",
       "      <td>35.694004</td>\n",
       "      <td>139.753601</td>\n",
       "      <td>15.0</td>\n",
       "      <td>29.868422</td>\n",
       "      <td>30.0</td>\n",
       "      <td>47.0</td>\n",
       "      <td>38.0</td>\n",
       "    </tr>\n",
       "  </tbody>\n",
       "</table>\n",
       "</div>"
      ],
      "text/plain": [
       "                                id  visitors visit_date          air_store_id  \\\n",
       "0  air_00a91d42b08b08d9_2017-04-23         0 2017-04-23  air_00a91d42b08b08d9   \n",
       "1  air_00a91d42b08b08d9_2017-04-24         0 2017-04-24  air_00a91d42b08b08d9   \n",
       "2  air_00a91d42b08b08d9_2017-04-25         0 2017-04-25  air_00a91d42b08b08d9   \n",
       "3  air_00a91d42b08b08d9_2017-04-26         0 2017-04-26  air_00a91d42b08b08d9   \n",
       "4  air_00a91d42b08b08d9_2017-04-27         0 2017-04-27  air_00a91d42b08b08d9   \n",
       "\n",
       "   dow  year  month  holiday_flg  days_until_holiday  days_since_holiday  \\\n",
       "0    6  2017      4            0                   6                  34   \n",
       "1    0  2017      4            0                   5                  35   \n",
       "2    1  2017      4            0                   4                  36   \n",
       "3    2  2017      4            0                   3                  37   \n",
       "4    3  2017      4            0                   2                  38   \n",
       "\n",
       "   air_genre_name  air_area_name   latitude   longitude  min_visitors  \\\n",
       "0               6             44  35.694004  139.753601           2.0   \n",
       "1               6             44  35.694004  139.753601           1.0   \n",
       "2               6             44  35.694004  139.753601           1.0   \n",
       "3               6             44  35.694004  139.753601          15.0   \n",
       "4               6             44  35.694004  139.753601          15.0   \n",
       "\n",
       "   mean_visitors  median_visitors  max_visitors  count_observations  \n",
       "0       2.000000              2.0           2.0                 1.0  \n",
       "1      22.457144             19.0          47.0                35.0  \n",
       "2      24.350000             24.5          43.0                40.0  \n",
       "3      28.125000             28.0          52.0                40.0  \n",
       "4      29.868422             30.0          47.0                38.0  "
      ]
     },
     "execution_count": 38,
     "metadata": {},
     "output_type": "execute_result"
    }
   ],
   "source": [
    "testWk1_pred.head()"
   ]
  },
  {
   "cell_type": "markdown",
   "metadata": {},
   "source": [
    "Command to put columns in the right order for the XGBoost prediction"
   ]
  },
  {
   "cell_type": "code",
   "execution_count": 40,
   "metadata": {},
   "outputs": [],
   "source": [
    "# NOTE: USE COLUMN LIST BELOW IF NOT INCLUDING VISITOR STATISTICS IN TRAINING SET\n",
    "\n",
    "#columnsForTest_df = ['dow', 'year', 'month', 'ewma', 'holiday_flg', 'days_until_holiday',\n",
    "#       'days_since_holiday', 'air_genre_name', 'air_area_name', 'latitude',\n",
    "#       'longitude']\n",
    "\n",
    "# NOTE: USE COLUMN LIST BELOW IF INCLUDING VISITOR STATISTICS IN TRAINING SET\n",
    "columnsForTest_df = ['dow', 'year', 'month', 'holiday_flg', 'days_until_holiday', 'days_since_holiday',\n",
    "                     'air_genre_name', 'air_area_name', 'latitude', 'longitude', 'min_visitors', 'mean_visitors',\n",
    "                     'median_visitors', 'max_visitors', 'count_observations']"
   ]
  },
  {
   "cell_type": "code",
   "execution_count": 43,
   "metadata": {},
   "outputs": [],
   "source": [
    "test = test[columnsForTest_df]\n",
    "test = test.reset_index()\n",
    "test = test[columnsForTest_df]"
   ]
  },
  {
   "cell_type": "code",
   "execution_count": 44,
   "metadata": {},
   "outputs": [
    {
     "name": "stdout",
     "output_type": "stream",
     "text": [
      "Predicting on test ...\n"
     ]
    }
   ],
   "source": [
    "d_test = xgb.DMatrix(test)\n",
    "print('Predicting on test ...')\n",
    "p_test = clf.predict(d_test)\n",
    "#del d_test; gc.collect()"
   ]
  },
  {
   "cell_type": "code",
   "execution_count": 46,
   "metadata": {},
   "outputs": [],
   "source": [
    "test['visitors'] = p_test\n",
    "test['id'] = data['sampleSub']['id']\n",
    "test[['id','visitors']].to_csv('xgb_submission_noEWMA.csv', index=False, float_format='%.3f')"
   ]
  }
 ],
 "metadata": {
  "anaconda-cloud": {},
  "kernelspec": {
   "display_name": "Python [conda env:Anaconda3]",
   "language": "python",
   "name": "conda-env-Anaconda3-py"
  },
  "language_info": {
   "codemirror_mode": {
    "name": "ipython",
    "version": 3
   },
   "file_extension": ".py",
   "mimetype": "text/x-python",
   "name": "python",
   "nbconvert_exporter": "python",
   "pygments_lexer": "ipython3",
   "version": "3.5.4"
  }
 },
 "nbformat": 4,
 "nbformat_minor": 1
}

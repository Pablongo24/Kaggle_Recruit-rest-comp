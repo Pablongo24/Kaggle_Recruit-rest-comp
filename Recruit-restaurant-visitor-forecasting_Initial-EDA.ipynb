{
 "cells": [
  {
   "cell_type": "markdown",
   "metadata": {},
   "source": [
    "### Import stuff"
   ]
  },
  {
   "cell_type": "code",
   "execution_count": 53,
   "metadata": {},
   "outputs": [],
   "source": [
    "import pandas as pd\n",
    "import numpy as np"
   ]
  },
  {
   "cell_type": "markdown",
   "metadata": {},
   "source": [
    "### Bring in data"
   ]
  },
  {
   "cell_type": "code",
   "execution_count": 7,
   "metadata": {},
   "outputs": [],
   "source": [
    "PATH = r\"C:\\Users\\pablo.vega-behar\\Desktop\\Coding-Scripting\\Kaggle\\Recruit-restaurant-visitor-forecasting\""
   ]
  },
  {
   "cell_type": "code",
   "execution_count": 11,
   "metadata": {},
   "outputs": [],
   "source": [
    "data = {\n",
    "    'airRes':    pd.read_csv(PATH + r\"\\air_reserve.csv\"),\n",
    "    'airStore':  pd.read_csv(PATH + r\"\\air_store_info.csv\"),\n",
    "    'airVisit':  pd.read_csv(PATH + r\"\\air_visit_data.csv\"),\n",
    "    'date':      pd.read_csv(PATH + r\"\\date_info.csv\"),\n",
    "    'hpgRes':    pd.read_csv(PATH + r\"\\hpg_reserve.csv\"),\n",
    "    'hpgStore':  pd.read_csv(PATH + r\"\\hpg_store_info.csv\"),\n",
    "    'sampleSub': pd.read_csv(PATH + r\"\\sample_submission.csv\"),\n",
    "    'storeIDs':  pd.read_csv(PATH + r\"\\store_id_relation.csv\")    \n",
    "}"
   ]
  },
  {
   "cell_type": "markdown",
   "metadata": {},
   "source": [
    "### Check out the data"
   ]
  },
  {
   "cell_type": "code",
   "execution_count": 29,
   "metadata": {},
   "outputs": [
    {
     "name": "stdout",
     "output_type": "stream",
     "text": [
      "airVisit\n",
      "           air_store_id  visit_date  visitors\n",
      "0  air_ba937bf13d40fb24  2016-01-13        25\n",
      "______________________________\n",
      "sampleSub\n",
      "                                id  visitors\n",
      "0  air_00a91d42b08b08d9_2017-04-23         0\n",
      "______________________________\n",
      "hpgRes\n",
      "           hpg_store_id       visit_datetime     reserve_datetime  \\\n",
      "0  hpg_c63f6f42e088e50f  2016-01-01 11:00:00  2016-01-01 09:00:00   \n",
      "\n",
      "   reserve_visitors  \n",
      "0                 1  \n",
      "______________________________\n",
      "airRes\n",
      "           air_store_id       visit_datetime     reserve_datetime  \\\n",
      "0  air_877f79706adbfb06  2016-01-01 19:00:00  2016-01-01 16:00:00   \n",
      "\n",
      "   reserve_visitors  \n",
      "0                 1  \n",
      "______________________________\n",
      "date\n",
      "  calendar_date day_of_week  holiday_flg\n",
      "0    2016-01-01      Friday            1\n",
      "______________________________\n",
      "hpgStore\n",
      "           hpg_store_id  hpg_genre_name                  hpg_area_name  \\\n",
      "0  hpg_6622b62385aec8bf  Japanese style  Tōkyō-to Setagaya-ku Taishidō   \n",
      "\n",
      "    latitude   longitude  \n",
      "0  35.643675  139.668221  \n",
      "______________________________\n",
      "storeIDs\n",
      "           air_store_id          hpg_store_id\n",
      "0  air_63b13c56b7201bd9  hpg_4bc649e72e2a239a\n",
      "______________________________\n",
      "airStore\n",
      "           air_store_id  air_genre_name                 air_area_name  \\\n",
      "0  air_0f0cdeee6c9bf3d7  Italian/French  Hyōgo-ken Kōbe-shi Kumoidōri   \n",
      "\n",
      "    latitude   longitude  \n",
      "0  34.695124  135.197852  \n",
      "______________________________\n"
     ]
    }
   ],
   "source": [
    "for (k, v) in data.items():\n",
    "    print(k)\n",
    "    print(v.head(1))\n",
    "    print('_'*30)"
   ]
  },
  {
   "cell_type": "markdown",
   "metadata": {},
   "source": [
    "# The dataframes need to be merged\n",
    "Below I add air ID to hpg Res df.\n",
    "\n",
    "NOTE: Right now I'm doing an inner join, but not all restaurants are in both airRes and hpgRes!"
   ]
  },
  {
   "cell_type": "code",
   "execution_count": 85,
   "metadata": {},
   "outputs": [],
   "source": [
    "data['hpgRes'] = pd.merge(data['hpgRes'], data['storeIDs'], how = 'inner', on=['hpg_store_id'])"
   ]
  },
  {
   "cell_type": "code",
   "execution_count": 86,
   "metadata": {},
   "outputs": [
    {
     "data": {
      "text/html": [
       "<div>\n",
       "<table border=\"1\" class=\"dataframe\">\n",
       "  <thead>\n",
       "    <tr style=\"text-align: right;\">\n",
       "      <th></th>\n",
       "      <th>hpg_store_id</th>\n",
       "      <th>visit_datetime</th>\n",
       "      <th>reserve_datetime</th>\n",
       "      <th>reserve_visitors</th>\n",
       "      <th>air_store_id_x</th>\n",
       "      <th>visit_date</th>\n",
       "      <th>visit_time</th>\n",
       "      <th>reserve_date</th>\n",
       "      <th>reserve_time</th>\n",
       "      <th>reserve_visit_diff</th>\n",
       "      <th>air_store_id_y</th>\n",
       "    </tr>\n",
       "  </thead>\n",
       "  <tbody>\n",
       "    <tr>\n",
       "      <th>0</th>\n",
       "      <td>hpg_878cc70b1abc76f7</td>\n",
       "      <td>2016-01-01 19:00:00</td>\n",
       "      <td>2016-01-01 15:00:00</td>\n",
       "      <td>4</td>\n",
       "      <td>air_db80363d35f10926</td>\n",
       "      <td>2016-01-01</td>\n",
       "      <td>19:00:00</td>\n",
       "      <td>2016-01-01</td>\n",
       "      <td>15:00:00</td>\n",
       "      <td>0</td>\n",
       "      <td>air_db80363d35f10926</td>\n",
       "    </tr>\n",
       "    <tr>\n",
       "      <th>1</th>\n",
       "      <td>hpg_878cc70b1abc76f7</td>\n",
       "      <td>2016-01-02 19:00:00</td>\n",
       "      <td>2016-01-02 14:00:00</td>\n",
       "      <td>2</td>\n",
       "      <td>air_db80363d35f10926</td>\n",
       "      <td>2016-01-02</td>\n",
       "      <td>19:00:00</td>\n",
       "      <td>2016-01-02</td>\n",
       "      <td>14:00:00</td>\n",
       "      <td>0</td>\n",
       "      <td>air_db80363d35f10926</td>\n",
       "    </tr>\n",
       "    <tr>\n",
       "      <th>2</th>\n",
       "      <td>hpg_878cc70b1abc76f7</td>\n",
       "      <td>2016-01-03 18:00:00</td>\n",
       "      <td>2016-01-02 20:00:00</td>\n",
       "      <td>6</td>\n",
       "      <td>air_db80363d35f10926</td>\n",
       "      <td>2016-01-03</td>\n",
       "      <td>18:00:00</td>\n",
       "      <td>2016-01-02</td>\n",
       "      <td>20:00:00</td>\n",
       "      <td>1</td>\n",
       "      <td>air_db80363d35f10926</td>\n",
       "    </tr>\n",
       "    <tr>\n",
       "      <th>3</th>\n",
       "      <td>hpg_878cc70b1abc76f7</td>\n",
       "      <td>2016-01-06 20:00:00</td>\n",
       "      <td>2016-01-04 22:00:00</td>\n",
       "      <td>3</td>\n",
       "      <td>air_db80363d35f10926</td>\n",
       "      <td>2016-01-06</td>\n",
       "      <td>20:00:00</td>\n",
       "      <td>2016-01-04</td>\n",
       "      <td>22:00:00</td>\n",
       "      <td>2</td>\n",
       "      <td>air_db80363d35f10926</td>\n",
       "    </tr>\n",
       "    <tr>\n",
       "      <th>4</th>\n",
       "      <td>hpg_878cc70b1abc76f7</td>\n",
       "      <td>2016-01-11 18:00:00</td>\n",
       "      <td>2016-01-11 14:00:00</td>\n",
       "      <td>2</td>\n",
       "      <td>air_db80363d35f10926</td>\n",
       "      <td>2016-01-11</td>\n",
       "      <td>18:00:00</td>\n",
       "      <td>2016-01-11</td>\n",
       "      <td>14:00:00</td>\n",
       "      <td>0</td>\n",
       "      <td>air_db80363d35f10926</td>\n",
       "    </tr>\n",
       "  </tbody>\n",
       "</table>\n",
       "</div>"
      ],
      "text/plain": [
       "           hpg_store_id      visit_datetime    reserve_datetime  \\\n",
       "0  hpg_878cc70b1abc76f7 2016-01-01 19:00:00 2016-01-01 15:00:00   \n",
       "1  hpg_878cc70b1abc76f7 2016-01-02 19:00:00 2016-01-02 14:00:00   \n",
       "2  hpg_878cc70b1abc76f7 2016-01-03 18:00:00 2016-01-02 20:00:00   \n",
       "3  hpg_878cc70b1abc76f7 2016-01-06 20:00:00 2016-01-04 22:00:00   \n",
       "4  hpg_878cc70b1abc76f7 2016-01-11 18:00:00 2016-01-11 14:00:00   \n",
       "\n",
       "   reserve_visitors        air_store_id_x  visit_date visit_time reserve_date  \\\n",
       "0                 4  air_db80363d35f10926  2016-01-01   19:00:00   2016-01-01   \n",
       "1                 2  air_db80363d35f10926  2016-01-02   19:00:00   2016-01-02   \n",
       "2                 6  air_db80363d35f10926  2016-01-03   18:00:00   2016-01-02   \n",
       "3                 3  air_db80363d35f10926  2016-01-06   20:00:00   2016-01-04   \n",
       "4                 2  air_db80363d35f10926  2016-01-11   18:00:00   2016-01-11   \n",
       "\n",
       "  reserve_time  reserve_visit_diff        air_store_id_y  \n",
       "0     15:00:00                   0  air_db80363d35f10926  \n",
       "1     14:00:00                   0  air_db80363d35f10926  \n",
       "2     20:00:00                   1  air_db80363d35f10926  \n",
       "3     22:00:00                   2  air_db80363d35f10926  \n",
       "4     14:00:00                   0  air_db80363d35f10926  "
      ]
     },
     "execution_count": 86,
     "metadata": {},
     "output_type": "execute_result"
    }
   ],
   "source": [
    "data['hpgRes'].head()"
   ]
  },
  {
   "cell_type": "markdown",
   "metadata": {},
   "source": [
    "Separate date and time info for Res df's.\n",
    "\n",
    "Add reservation-to-visit difference (may not be a feature, as it's leakage)"
   ]
  },
  {
   "cell_type": "code",
   "execution_count": 61,
   "metadata": {},
   "outputs": [
    {
     "data": {
      "text/html": [
       "<div>\n",
       "<table border=\"1\" class=\"dataframe\">\n",
       "  <thead>\n",
       "    <tr style=\"text-align: right;\">\n",
       "      <th></th>\n",
       "      <th>air_store_id</th>\n",
       "      <th>visit_datetime</th>\n",
       "      <th>reserve_datetime</th>\n",
       "      <th>reserve_visitors</th>\n",
       "      <th>visit_date</th>\n",
       "      <th>visit_time</th>\n",
       "      <th>reserve_date</th>\n",
       "      <th>reserve_time</th>\n",
       "      <th>reserve_visit_diff</th>\n",
       "    </tr>\n",
       "  </thead>\n",
       "  <tbody>\n",
       "    <tr>\n",
       "      <th>0</th>\n",
       "      <td>air_877f79706adbfb06</td>\n",
       "      <td>2016-01-01 19:00:00</td>\n",
       "      <td>2016-01-01 16:00:00</td>\n",
       "      <td>1</td>\n",
       "      <td>2016-01-01</td>\n",
       "      <td>19:00:00</td>\n",
       "      <td>2016-01-01</td>\n",
       "      <td>16:00:00</td>\n",
       "      <td>0</td>\n",
       "    </tr>\n",
       "    <tr>\n",
       "      <th>1</th>\n",
       "      <td>air_db4b38ebe7a7ceff</td>\n",
       "      <td>2016-01-01 19:00:00</td>\n",
       "      <td>2016-01-01 19:00:00</td>\n",
       "      <td>3</td>\n",
       "      <td>2016-01-01</td>\n",
       "      <td>19:00:00</td>\n",
       "      <td>2016-01-01</td>\n",
       "      <td>19:00:00</td>\n",
       "      <td>0</td>\n",
       "    </tr>\n",
       "    <tr>\n",
       "      <th>2</th>\n",
       "      <td>air_db4b38ebe7a7ceff</td>\n",
       "      <td>2016-01-01 19:00:00</td>\n",
       "      <td>2016-01-01 19:00:00</td>\n",
       "      <td>6</td>\n",
       "      <td>2016-01-01</td>\n",
       "      <td>19:00:00</td>\n",
       "      <td>2016-01-01</td>\n",
       "      <td>19:00:00</td>\n",
       "      <td>0</td>\n",
       "    </tr>\n",
       "    <tr>\n",
       "      <th>3</th>\n",
       "      <td>air_877f79706adbfb06</td>\n",
       "      <td>2016-01-01 20:00:00</td>\n",
       "      <td>2016-01-01 16:00:00</td>\n",
       "      <td>2</td>\n",
       "      <td>2016-01-01</td>\n",
       "      <td>20:00:00</td>\n",
       "      <td>2016-01-01</td>\n",
       "      <td>16:00:00</td>\n",
       "      <td>0</td>\n",
       "    </tr>\n",
       "    <tr>\n",
       "      <th>4</th>\n",
       "      <td>air_db80363d35f10926</td>\n",
       "      <td>2016-01-01 20:00:00</td>\n",
       "      <td>2016-01-01 01:00:00</td>\n",
       "      <td>5</td>\n",
       "      <td>2016-01-01</td>\n",
       "      <td>20:00:00</td>\n",
       "      <td>2016-01-01</td>\n",
       "      <td>01:00:00</td>\n",
       "      <td>0</td>\n",
       "    </tr>\n",
       "  </tbody>\n",
       "</table>\n",
       "</div>"
      ],
      "text/plain": [
       "           air_store_id      visit_datetime    reserve_datetime  \\\n",
       "0  air_877f79706adbfb06 2016-01-01 19:00:00 2016-01-01 16:00:00   \n",
       "1  air_db4b38ebe7a7ceff 2016-01-01 19:00:00 2016-01-01 19:00:00   \n",
       "2  air_db4b38ebe7a7ceff 2016-01-01 19:00:00 2016-01-01 19:00:00   \n",
       "3  air_877f79706adbfb06 2016-01-01 20:00:00 2016-01-01 16:00:00   \n",
       "4  air_db80363d35f10926 2016-01-01 20:00:00 2016-01-01 01:00:00   \n",
       "\n",
       "   reserve_visitors  visit_date visit_time reserve_date reserve_time  \\\n",
       "0                 1  2016-01-01   19:00:00   2016-01-01     16:00:00   \n",
       "1                 3  2016-01-01   19:00:00   2016-01-01     19:00:00   \n",
       "2                 6  2016-01-01   19:00:00   2016-01-01     19:00:00   \n",
       "3                 2  2016-01-01   20:00:00   2016-01-01     16:00:00   \n",
       "4                 5  2016-01-01   20:00:00   2016-01-01     01:00:00   \n",
       "\n",
       "   reserve_visit_diff  \n",
       "0                   0  \n",
       "1                   0  \n",
       "2                   0  \n",
       "3                   0  \n",
       "4                   0  "
      ]
     },
     "execution_count": 61,
     "metadata": {},
     "output_type": "execute_result"
    }
   ],
   "source": [
    "\n",
    "for dfName in ['airRes', 'hpgRes']:\n",
    "    data[dfName]['visit_datetime'] = pd.to_datetime(data[dfName]['visit_datetime'])\n",
    "    data[dfName]['reserve_datetime'] = pd.to_datetime(data[dfName]['reserve_datetime'])\n",
    "    data[dfName]['visit_date'] = data[dfName]['visit_datetime'].dt.date\n",
    "    data[dfName]['visit_time'] = data[dfName]['visit_datetime'].dt.time\n",
    "    data[dfName]['reserve_date'] = data[dfName]['reserve_datetime'].dt.date\n",
    "    data[dfName]['reserve_time'] = data[dfName]['reserve_datetime'].dt.time\n",
    "    data[dfName]['reserve_visit_diff'] = data[dfName].apply(lambda x: (x['visit_date'] - x['reserve_date']).days, axis = 1)\n",
    "\n",
    "data['airRes'].head()"
   ]
  },
  {
   "cell_type": "code",
   "execution_count": 80,
   "metadata": {},
   "outputs": [],
   "source": [
    "data2 = {\n",
    "    'airRes': data['airRes'],\n",
    "    'hpgRes': data['hpgRes']\n",
    "    }\n",
    "# Group data by visit date  \n",
    "for dfName in ['airRes', 'hpgRes']:\n",
    "    data2[dfName] = data2[dfName].groupby(['air_store_id','visit_date'],as_index=False)[['reserve_visit_diff','reserve_visitors']].sum()\n"
   ]
  },
  {
   "cell_type": "code",
   "execution_count": 84,
   "metadata": {},
   "outputs": [
    {
     "data": {
      "text/plain": [
       "(           air_store_id  visit_date  reserve_visit_diff  reserve_visitors\n",
       " 0  air_00a91d42b08b08d9  2016-01-14                   3                 2\n",
       " 1  air_00a91d42b08b08d9  2016-01-15                   6                 4\n",
       " 2  air_00a91d42b08b08d9  2016-01-16                   3                 2\n",
       " 3  air_00a91d42b08b08d9  2016-01-22                   3                 2\n",
       " 4  air_00a91d42b08b08d9  2016-01-29                   6                 5,\n",
       " '______________________________',\n",
       "            air_store_id  visit_date  reserve_visit_diff  reserve_visitors\n",
       " 0  air_00a91d42b08b08d9  2016-10-31                   0                 2\n",
       " 1  air_00a91d42b08b08d9  2016-12-05                   4                 9\n",
       " 2  air_00a91d42b08b08d9  2016-12-14                   6                18\n",
       " 3  air_00a91d42b08b08d9  2016-12-17                   6                 2\n",
       " 4  air_00a91d42b08b08d9  2016-12-20                   2                 4)"
      ]
     },
     "execution_count": 84,
     "metadata": {},
     "output_type": "execute_result"
    }
   ],
   "source": [
    "data2['hpgRes'].head(),\"_\"*30, data2['airRes'].head()"
   ]
  },
  {
   "cell_type": "code",
   "execution_count": 51,
   "metadata": {},
   "outputs": [
    {
     "data": {
      "text/html": [
       "<div>\n",
       "<table border=\"1\" class=\"dataframe\">\n",
       "  <thead>\n",
       "    <tr style=\"text-align: right;\">\n",
       "      <th></th>\n",
       "      <th>id</th>\n",
       "      <th>visitors</th>\n",
       "    </tr>\n",
       "  </thead>\n",
       "  <tbody>\n",
       "    <tr>\n",
       "      <th>0</th>\n",
       "      <td>air_00a91d42b08b08d9_2017-04-23</td>\n",
       "      <td>0</td>\n",
       "    </tr>\n",
       "    <tr>\n",
       "      <th>1</th>\n",
       "      <td>air_00a91d42b08b08d9_2017-04-24</td>\n",
       "      <td>0</td>\n",
       "    </tr>\n",
       "    <tr>\n",
       "      <th>2</th>\n",
       "      <td>air_00a91d42b08b08d9_2017-04-25</td>\n",
       "      <td>0</td>\n",
       "    </tr>\n",
       "    <tr>\n",
       "      <th>3</th>\n",
       "      <td>air_00a91d42b08b08d9_2017-04-26</td>\n",
       "      <td>0</td>\n",
       "    </tr>\n",
       "    <tr>\n",
       "      <th>4</th>\n",
       "      <td>air_00a91d42b08b08d9_2017-04-27</td>\n",
       "      <td>0</td>\n",
       "    </tr>\n",
       "    <tr>\n",
       "      <th>5</th>\n",
       "      <td>air_00a91d42b08b08d9_2017-04-28</td>\n",
       "      <td>0</td>\n",
       "    </tr>\n",
       "    <tr>\n",
       "      <th>6</th>\n",
       "      <td>air_00a91d42b08b08d9_2017-04-29</td>\n",
       "      <td>0</td>\n",
       "    </tr>\n",
       "    <tr>\n",
       "      <th>7</th>\n",
       "      <td>air_00a91d42b08b08d9_2017-04-30</td>\n",
       "      <td>0</td>\n",
       "    </tr>\n",
       "    <tr>\n",
       "      <th>8</th>\n",
       "      <td>air_00a91d42b08b08d9_2017-05-01</td>\n",
       "      <td>0</td>\n",
       "    </tr>\n",
       "    <tr>\n",
       "      <th>9</th>\n",
       "      <td>air_00a91d42b08b08d9_2017-05-02</td>\n",
       "      <td>0</td>\n",
       "    </tr>\n",
       "  </tbody>\n",
       "</table>\n",
       "</div>"
      ],
      "text/plain": [
       "                                id  visitors\n",
       "0  air_00a91d42b08b08d9_2017-04-23         0\n",
       "1  air_00a91d42b08b08d9_2017-04-24         0\n",
       "2  air_00a91d42b08b08d9_2017-04-25         0\n",
       "3  air_00a91d42b08b08d9_2017-04-26         0\n",
       "4  air_00a91d42b08b08d9_2017-04-27         0\n",
       "5  air_00a91d42b08b08d9_2017-04-28         0\n",
       "6  air_00a91d42b08b08d9_2017-04-29         0\n",
       "7  air_00a91d42b08b08d9_2017-04-30         0\n",
       "8  air_00a91d42b08b08d9_2017-05-01         0\n",
       "9  air_00a91d42b08b08d9_2017-05-02         0"
      ]
     },
     "execution_count": 51,
     "metadata": {},
     "output_type": "execute_result"
    }
   ],
   "source": [
    "data['sampleSub'].head(10)"
   ]
  },
  {
   "cell_type": "code",
   "execution_count": 52,
   "metadata": {},
   "outputs": [
    {
     "data": {
      "text/html": [
       "<div>\n",
       "<table border=\"1\" class=\"dataframe\">\n",
       "  <thead>\n",
       "    <tr style=\"text-align: right;\">\n",
       "      <th></th>\n",
       "      <th>hpg_store_id</th>\n",
       "      <th>visit_datetime</th>\n",
       "      <th>reserve_datetime</th>\n",
       "      <th>reserve_visitors</th>\n",
       "      <th>air_store_id</th>\n",
       "      <th>visit_date</th>\n",
       "      <th>visit_time</th>\n",
       "      <th>reserve_date</th>\n",
       "      <th>reserve_time</th>\n",
       "      <th>reserve_visit_diff</th>\n",
       "    </tr>\n",
       "  </thead>\n",
       "  <tbody>\n",
       "    <tr>\n",
       "      <th>0</th>\n",
       "      <td>hpg_878cc70b1abc76f7</td>\n",
       "      <td>2016-01-01 19:00:00</td>\n",
       "      <td>2016-01-01 15:00:00</td>\n",
       "      <td>4</td>\n",
       "      <td>air_db80363d35f10926</td>\n",
       "      <td>2016-01-01</td>\n",
       "      <td>19:00:00</td>\n",
       "      <td>2016-01-01</td>\n",
       "      <td>15:00:00</td>\n",
       "      <td>0</td>\n",
       "    </tr>\n",
       "    <tr>\n",
       "      <th>1</th>\n",
       "      <td>hpg_878cc70b1abc76f7</td>\n",
       "      <td>2016-01-02 19:00:00</td>\n",
       "      <td>2016-01-02 14:00:00</td>\n",
       "      <td>2</td>\n",
       "      <td>air_db80363d35f10926</td>\n",
       "      <td>2016-01-02</td>\n",
       "      <td>19:00:00</td>\n",
       "      <td>2016-01-02</td>\n",
       "      <td>14:00:00</td>\n",
       "      <td>0</td>\n",
       "    </tr>\n",
       "    <tr>\n",
       "      <th>2</th>\n",
       "      <td>hpg_878cc70b1abc76f7</td>\n",
       "      <td>2016-01-03 18:00:00</td>\n",
       "      <td>2016-01-02 20:00:00</td>\n",
       "      <td>6</td>\n",
       "      <td>air_db80363d35f10926</td>\n",
       "      <td>2016-01-03</td>\n",
       "      <td>18:00:00</td>\n",
       "      <td>2016-01-02</td>\n",
       "      <td>20:00:00</td>\n",
       "      <td>1</td>\n",
       "    </tr>\n",
       "    <tr>\n",
       "      <th>3</th>\n",
       "      <td>hpg_878cc70b1abc76f7</td>\n",
       "      <td>2016-01-06 20:00:00</td>\n",
       "      <td>2016-01-04 22:00:00</td>\n",
       "      <td>3</td>\n",
       "      <td>air_db80363d35f10926</td>\n",
       "      <td>2016-01-06</td>\n",
       "      <td>20:00:00</td>\n",
       "      <td>2016-01-04</td>\n",
       "      <td>22:00:00</td>\n",
       "      <td>2</td>\n",
       "    </tr>\n",
       "    <tr>\n",
       "      <th>4</th>\n",
       "      <td>hpg_878cc70b1abc76f7</td>\n",
       "      <td>2016-01-11 18:00:00</td>\n",
       "      <td>2016-01-11 14:00:00</td>\n",
       "      <td>2</td>\n",
       "      <td>air_db80363d35f10926</td>\n",
       "      <td>2016-01-11</td>\n",
       "      <td>18:00:00</td>\n",
       "      <td>2016-01-11</td>\n",
       "      <td>14:00:00</td>\n",
       "      <td>0</td>\n",
       "    </tr>\n",
       "  </tbody>\n",
       "</table>\n",
       "</div>"
      ],
      "text/plain": [
       "           hpg_store_id      visit_datetime    reserve_datetime  \\\n",
       "0  hpg_878cc70b1abc76f7 2016-01-01 19:00:00 2016-01-01 15:00:00   \n",
       "1  hpg_878cc70b1abc76f7 2016-01-02 19:00:00 2016-01-02 14:00:00   \n",
       "2  hpg_878cc70b1abc76f7 2016-01-03 18:00:00 2016-01-02 20:00:00   \n",
       "3  hpg_878cc70b1abc76f7 2016-01-06 20:00:00 2016-01-04 22:00:00   \n",
       "4  hpg_878cc70b1abc76f7 2016-01-11 18:00:00 2016-01-11 14:00:00   \n",
       "\n",
       "   reserve_visitors          air_store_id  visit_date visit_time reserve_date  \\\n",
       "0                 4  air_db80363d35f10926  2016-01-01   19:00:00   2016-01-01   \n",
       "1                 2  air_db80363d35f10926  2016-01-02   19:00:00   2016-01-02   \n",
       "2                 6  air_db80363d35f10926  2016-01-03   18:00:00   2016-01-02   \n",
       "3                 3  air_db80363d35f10926  2016-01-06   20:00:00   2016-01-04   \n",
       "4                 2  air_db80363d35f10926  2016-01-11   18:00:00   2016-01-11   \n",
       "\n",
       "  reserve_time  reserve_visit_diff  \n",
       "0     15:00:00                   0  \n",
       "1     14:00:00                   0  \n",
       "2     20:00:00                   1  \n",
       "3     22:00:00                   2  \n",
       "4     14:00:00                   0  "
      ]
     },
     "execution_count": 52,
     "metadata": {},
     "output_type": "execute_result"
    }
   ],
   "source": [
    "dfChk = data['hpgRes']\n",
    "dfChk['visit_date'] = dfChk['visit_datetime'].dt.date\n",
    "dfChk['visit_time'] = dfChk['visit_datetime'].dt.time\n",
    "dfChk.head()"
   ]
  },
  {
   "cell_type": "code",
   "execution_count": 56,
   "metadata": {},
   "outputs": [
    {
     "data": {
      "text/html": [
       "<div>\n",
       "<table border=\"1\" class=\"dataframe\">\n",
       "  <thead>\n",
       "    <tr style=\"text-align: right;\">\n",
       "      <th></th>\n",
       "      <th>id</th>\n",
       "      <th>visitors</th>\n",
       "    </tr>\n",
       "  </thead>\n",
       "  <tbody>\n",
       "    <tr>\n",
       "      <th>0</th>\n",
       "      <td>air_00a91d42b08b08d9_2017-04-23</td>\n",
       "      <td>9</td>\n",
       "    </tr>\n",
       "    <tr>\n",
       "      <th>1</th>\n",
       "      <td>air_00a91d42b08b08d9_2017-04-24</td>\n",
       "      <td>6</td>\n",
       "    </tr>\n",
       "    <tr>\n",
       "      <th>2</th>\n",
       "      <td>air_00a91d42b08b08d9_2017-04-25</td>\n",
       "      <td>7</td>\n",
       "    </tr>\n",
       "    <tr>\n",
       "      <th>3</th>\n",
       "      <td>air_00a91d42b08b08d9_2017-04-26</td>\n",
       "      <td>9</td>\n",
       "    </tr>\n",
       "    <tr>\n",
       "      <th>4</th>\n",
       "      <td>air_00a91d42b08b08d9_2017-04-27</td>\n",
       "      <td>2</td>\n",
       "    </tr>\n",
       "  </tbody>\n",
       "</table>\n",
       "</div>"
      ],
      "text/plain": [
       "                                id  visitors\n",
       "0  air_00a91d42b08b08d9_2017-04-23         9\n",
       "1  air_00a91d42b08b08d9_2017-04-24         6\n",
       "2  air_00a91d42b08b08d9_2017-04-25         7\n",
       "3  air_00a91d42b08b08d9_2017-04-26         9\n",
       "4  air_00a91d42b08b08d9_2017-04-27         2"
      ]
     },
     "execution_count": 56,
     "metadata": {},
     "output_type": "execute_result"
    }
   ],
   "source": [
    "dfRandomSub = data['sampleSub']\n",
    "dfRandomSub.visitors = np.random.randint(1, 10, dfRandomSub.shape[0])\n",
    "dfRandomSub.head(5)"
   ]
  },
  {
   "cell_type": "code",
   "execution_count": 60,
   "metadata": {},
   "outputs": [],
   "source": [
    "dfRandomSub.to_csv(PATH + r\"\\random_submission.csv\", index = False)"
   ]
  },
  {
   "cell_type": "code",
   "execution_count": 58,
   "metadata": {},
   "outputs": [
    {
     "data": {
      "text/plain": [
       "32019"
      ]
     },
     "execution_count": 58,
     "metadata": {},
     "output_type": "execute_result"
    }
   ],
   "source": [
    "len(dfRandomSub)"
   ]
  },
  {
   "cell_type": "code",
   "execution_count": null,
   "metadata": {},
   "outputs": [],
   "source": []
  }
 ],
 "metadata": {
  "anaconda-cloud": {},
  "kernelspec": {
   "display_name": "Python [default]",
   "language": "python",
   "name": "python3"
  },
  "language_info": {
   "codemirror_mode": {
    "name": "ipython",
    "version": 3
   },
   "file_extension": ".py",
   "mimetype": "text/x-python",
   "name": "python",
   "nbconvert_exporter": "python",
   "pygments_lexer": "ipython3",
   "version": "3.5.4"
  }
 },
 "nbformat": 4,
 "nbformat_minor": 1
}

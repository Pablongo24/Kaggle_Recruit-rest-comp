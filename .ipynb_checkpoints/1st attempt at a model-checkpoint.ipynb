{
 "cells": [
  {
   "cell_type": "markdown",
   "metadata": {},
   "source": [
    "# Import libraries"
   ]
  },
  {
   "cell_type": "code",
   "execution_count": 1,
   "metadata": {},
   "outputs": [],
   "source": [
    "import pandas as pd\n",
    "import numpy as np\n",
    "import matplotlib.pyplot as plt\n",
    "%matplotlib inline"
   ]
  },
  {
   "cell_type": "markdown",
   "metadata": {},
   "source": [
    "# Bring in data"
   ]
  },
  {
   "cell_type": "code",
   "execution_count": 2,
   "metadata": {},
   "outputs": [],
   "source": [
    "PATH = r\"..\\Raw_Data\""
   ]
  },
  {
   "cell_type": "code",
   "execution_count": 3,
   "metadata": {},
   "outputs": [],
   "source": [
    "data = {\n",
    "    'airRes':    pd.read_csv(PATH + r\"\\air_reserve.csv\"),\n",
    "    'airStore':  pd.read_csv(PATH + r\"\\air_store_info.csv\"),\n",
    "    'airVisit':  pd.read_csv(PATH + r\"\\air_visit_data.csv\"),\n",
    "    'date':      pd.read_csv(PATH + r\"\\date_info.csv\"),\n",
    "    'hpgRes':    pd.read_csv(PATH + r\"\\hpg_reserve.csv\"),\n",
    "    'hpgStore':  pd.read_csv(PATH + r\"\\hpg_store_info.csv\"),\n",
    "    'sampleSub': pd.read_csv(PATH + r\"\\sample_submission.csv\"),\n",
    "    'storeIDs':  pd.read_csv(PATH + r\"\\store_id_relation.csv\")    \n",
    "}"
   ]
  },
  {
   "cell_type": "markdown",
   "metadata": {},
   "source": [
    "# Preprocess data"
   ]
  },
  {
   "cell_type": "code",
   "execution_count": 6,
   "metadata": {},
   "outputs": [],
   "source": [
    "data['date']['visit_date'] = pd.to_datetime(data['date']['calendar_date'])\n",
    "data['date'].drop('calendar_date', axis = 1 , inplace=True)"
   ]
  },
  {
   "cell_type": "code",
   "execution_count": 7,
   "metadata": {},
   "outputs": [],
   "source": [
    "data['airVisit']['visit_date'] = pd.to_datetime(data['airVisit']['visit_date'])\n",
    "data['airVisit']['dow'] = data['airVisit']['visit_date'].dt.dayofweek\n",
    "data['airVisit']['year'] = data['airVisit']['visit_date'].dt.year\n",
    "data['airVisit']['month'] = data['airVisit']['visit_date'].dt.month"
   ]
  },
  {
   "cell_type": "markdown",
   "metadata": {},
   "source": [
    "## Add EWMA of visits as feature"
   ]
  },
  {
   "cell_type": "code",
   "execution_count": 8,
   "metadata": {},
   "outputs": [],
   "source": [
    "# Function to calculate ewm (note, found this on the discussion forum):\n",
    "def calc_shifted_ewm(series, alpha, adjust = True):\n",
    "    return series.shift().ewm(alpha = alpha, adjust = adjust).mean()"
   ]
  },
  {
   "cell_type": "code",
   "execution_count": 9,
   "metadata": {},
   "outputs": [],
   "source": [
    "# Step below adds the ewm by day of week. Right now I'm returning a separate series so I can look at what each step does if I want to\n",
    "tmp = data['airVisit'].groupby(['air_store_id','dow']).apply(lambda x: calc_shifted_ewm(x['visitors'], 0.1)) \n",
    "# This step backfills the 1st week's dow for each restaurant, otherwise it would be NaN since it's a 1-period ewma\n",
    "tmp = tmp.fillna(method='bfill')\n",
    "# The groupby function returns a multiIndex Series. I only need the 3rd level (original df index) to add column to original df\n",
    "tmp.index = tmp.index.get_level_values(2)\n",
    "# Sort index before adding back to original df\n",
    "tmp = tmp.sort_index()"
   ]
  },
  {
   "cell_type": "code",
   "execution_count": 10,
   "metadata": {},
   "outputs": [],
   "source": [
    "data['airVisit']['ewma'] = tmp"
   ]
  },
  {
   "cell_type": "markdown",
   "metadata": {},
   "source": [
    "## Add 'days since last' and 'days until next' holiday"
   ]
  },
  {
   "cell_type": "code",
   "execution_count": 12,
   "metadata": {},
   "outputs": [],
   "source": [
    "# Create a 'days since holiday' feature\n",
    "daysSinceList = []\n",
    "daysSinceHol = 0 # initialize daysSince counter\n",
    "for row in data['date']['holiday_flg']:\n",
    "    if row == 1:\n",
    "        daysSinceHol = 0\n",
    "        daysSinceList.append(daysSinceHol)\n",
    "    else:\n",
    "        daysSinceHol += 1\n",
    "        daysSinceList.append(daysSinceHol)\n",
    "data['date']['days_since_holiday'] = daysSinceList"
   ]
  },
  {
   "cell_type": "code",
   "execution_count": 13,
   "metadata": {},
   "outputs": [],
   "source": [
    "# Create a 'days UNTIL next holiday' feature\n",
    "holidayList = list(data['date']['holiday_flg'])\n",
    "daysUntilHolList = np.zeros(len(holidayList),dtype=np.int)\n",
    "daysUntilHol = 0 # initialize daysUntilHol counter\n",
    "for i in range(len(holidayList)-1,0,-1):\n",
    "    if holidayList[i] == 1:\n",
    "        daysUntilHol = 0\n",
    "        daysUntilHolList[i] = daysUntilHol\n",
    "    else:\n",
    "        daysUntilHol += 1\n",
    "        daysUntilHolList[i] = daysUntilHol        \n",
    "data['date']['days_until_holiday'] = daysUntilHolList"
   ]
  },
  {
   "cell_type": "markdown",
   "metadata": {},
   "source": [
    "## Merge air_visits with date dataframe to get holiday info"
   ]
  },
  {
   "cell_type": "code",
   "execution_count": 14,
   "metadata": {},
   "outputs": [],
   "source": [
    "colsToMerge = ['holiday_flg','visit_date','days_until_holiday','days_since_holiday']\n",
    "df_train = pd.merge(data['airVisit'], data['date'][colsToMerge], how = 'left', on = 'visit_date')"
   ]
  },
  {
   "cell_type": "code",
   "execution_count": null,
   "metadata": {},
   "outputs": [],
   "source": []
  }
 ],
 "metadata": {
  "kernelspec": {
   "display_name": "Python [conda env:Anaconda3]",
   "language": "python",
   "name": "conda-env-Anaconda3-py"
  },
  "language_info": {
   "codemirror_mode": {
    "name": "ipython",
    "version": 3
   },
   "file_extension": ".py",
   "mimetype": "text/x-python",
   "name": "python",
   "nbconvert_exporter": "python",
   "pygments_lexer": "ipython3",
   "version": "3.5.4"
  }
 },
 "nbformat": 4,
 "nbformat_minor": 1
}

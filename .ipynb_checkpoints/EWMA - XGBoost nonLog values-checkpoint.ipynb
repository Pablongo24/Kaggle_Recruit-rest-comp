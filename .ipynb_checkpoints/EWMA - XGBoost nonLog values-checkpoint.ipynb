{
 "cells": [
  {
   "cell_type": "markdown",
   "metadata": {},
   "source": [
    "# Import libraries"
   ]
  },
  {
   "cell_type": "code",
   "execution_count": 1,
   "metadata": {},
   "outputs": [],
   "source": [
    "import os\n",
    "mingw_path = 'C:\\\\Program Files\\\\mingw-w64\\\\x86_64-7.2.0-posix-seh-rt_v5-rev1\\\\mingw64\\\\bin'\n",
    "os.environ['PATH'] = mingw_path + ';' + os.environ['PATH']\n",
    "\n",
    "import pandas as pd\n",
    "import numpy as np\n",
    "import matplotlib.pyplot as plt\n",
    "import xgboost as xgb\n",
    "from sklearn.preprocessing import LabelEncoder\n",
    "import gc # Note: this is a garbage collector\n",
    "%matplotlib inline\n",
    "\n",
    "import warnings\n",
    "warnings.filterwarnings('ignore') "
   ]
  },
  {
   "cell_type": "markdown",
   "metadata": {},
   "source": [
    "# Bring in data"
   ]
  },
  {
   "cell_type": "code",
   "execution_count": 2,
   "metadata": {},
   "outputs": [],
   "source": [
    "PATH = r\"..\\Raw_Data\""
   ]
  },
  {
   "cell_type": "code",
   "execution_count": 3,
   "metadata": {},
   "outputs": [],
   "source": [
    "data = {\n",
    "    'airStore':  pd.read_csv(PATH + r\"\\air_store_info.csv\"),\n",
    "    'airVisit':  pd.read_csv(PATH + r\"\\air_visit_data.csv\"),\n",
    "    'date':      pd.read_csv(PATH + r\"\\date_info.csv\"),\n",
    "    'sampleSub': pd.read_csv(PATH + r\"\\sample_submission.csv\"),\n",
    "    'storeIDs':  pd.read_csv(PATH + r\"\\store_id_relation.csv\")    \n",
    "}"
   ]
  },
  {
   "cell_type": "markdown",
   "metadata": {},
   "source": [
    "# Preprocess data"
   ]
  },
  {
   "cell_type": "code",
   "execution_count": 4,
   "metadata": {},
   "outputs": [
    {
     "data": {
      "text/plain": [
       "'2017-04-22'"
      ]
     },
     "execution_count": 4,
     "metadata": {},
     "output_type": "execute_result"
    }
   ],
   "source": [
    "data['airVisit']['visit_date'].max()"
   ]
  },
  {
   "cell_type": "code",
   "execution_count": 5,
   "metadata": {},
   "outputs": [],
   "source": [
    "data['date']['visit_date'] = pd.to_datetime(data['date']['calendar_date'])\n",
    "data['date'].drop('calendar_date', axis = 1 , inplace=True)"
   ]
  },
  {
   "cell_type": "code",
   "execution_count": 6,
   "metadata": {},
   "outputs": [],
   "source": [
    "data['airVisit']['visit_date'] = pd.to_datetime(data['airVisit']['visit_date'])\n",
    "data['airVisit']['dow'] = data['airVisit']['visit_date'].dt.dayofweek\n",
    "data['airVisit']['year'] = data['airVisit']['visit_date'].dt.year\n",
    "data['airVisit']['month'] = data['airVisit']['visit_date'].dt.month"
   ]
  },
  {
   "cell_type": "markdown",
   "metadata": {},
   "source": [
    "## Add EWMA of visits as feature"
   ]
  },
  {
   "cell_type": "markdown",
   "metadata": {},
   "source": [
    "Function to calculate ewm (note, found this on the competition discussion forum):"
   ]
  },
  {
   "cell_type": "code",
   "execution_count": 7,
   "metadata": {},
   "outputs": [],
   "source": [
    "def calc_shifted_ewm(series, alpha, adjust = True):\n",
    "    return series.shift().ewm(alpha = alpha, adjust = adjust).mean()"
   ]
  },
  {
   "cell_type": "code",
   "execution_count": 8,
   "metadata": {},
   "outputs": [],
   "source": [
    "# Step below adds the ewm by day of week. Right now I'm returning a separate series so I can look at what each step does if I want to\n",
    "tmp = data['airVisit'].groupby(['air_store_id','dow']).apply(lambda x: calc_shifted_ewm(x['visitors'], 0.1)) \n",
    "# This step backfills the 1st week's dow for each restaurant, otherwise it would be NaN since it's a 1-period ewma\n",
    "tmp = tmp.fillna(method='bfill')\n",
    "# The groupby function returns a multiIndex Series. I only need the 3rd level (original df index) to add column to original df\n",
    "tmp.index = tmp.index.get_level_values(2)\n",
    "# Sort index before adding back to original df\n",
    "tmp = tmp.sort_index()"
   ]
  },
  {
   "cell_type": "code",
   "execution_count": 9,
   "metadata": {},
   "outputs": [],
   "source": [
    "data['airVisit']['ewma'] = tmp"
   ]
  },
  {
   "cell_type": "markdown",
   "metadata": {},
   "source": [
    "## Add 'days since last' and 'days until next' holiday"
   ]
  },
  {
   "cell_type": "code",
   "execution_count": 10,
   "metadata": {},
   "outputs": [],
   "source": [
    "# Create a 'days since holiday' feature\n",
    "daysSinceList = []\n",
    "daysSinceHol = 0 # initialize daysSince counter\n",
    "for row in data['date']['holiday_flg']:\n",
    "    if row == 1:\n",
    "        daysSinceHol = 0\n",
    "        daysSinceList.append(daysSinceHol)\n",
    "    else:\n",
    "        daysSinceHol += 1\n",
    "        daysSinceList.append(daysSinceHol)\n",
    "data['date']['days_since_holiday'] = daysSinceList"
   ]
  },
  {
   "cell_type": "code",
   "execution_count": 11,
   "metadata": {},
   "outputs": [],
   "source": [
    "# Create a 'days UNTIL next holiday' feature\n",
    "holidayList = list(data['date']['holiday_flg'])\n",
    "daysUntilHolList = np.zeros(len(holidayList),dtype=np.int)\n",
    "daysUntilHol = 0 # initialize daysUntilHol counter\n",
    "for i in range(len(holidayList)-1,0,-1):\n",
    "    if holidayList[i] == 1:\n",
    "        daysUntilHol = 0\n",
    "        daysUntilHolList[i] = daysUntilHol\n",
    "    else:\n",
    "        daysUntilHol += 1\n",
    "        daysUntilHolList[i] = daysUntilHol        \n",
    "data['date']['days_until_holiday'] = daysUntilHolList"
   ]
  },
  {
   "cell_type": "markdown",
   "metadata": {},
   "source": [
    "## Merge air_visits with date dframe to get holiday info"
   ]
  },
  {
   "cell_type": "code",
   "execution_count": 12,
   "metadata": {},
   "outputs": [],
   "source": [
    "colsToMerge = ['holiday_flg','visit_date','days_until_holiday','days_since_holiday']\n",
    "df_train = pd.merge(data['airVisit'], data['date'][colsToMerge], how = 'left', on = 'visit_date')"
   ]
  },
  {
   "cell_type": "markdown",
   "metadata": {},
   "source": [
    "## Filter only the stores that must be predicted"
   ]
  },
  {
   "cell_type": "code",
   "execution_count": 13,
   "metadata": {},
   "outputs": [],
   "source": [
    "df_test = data['sampleSub']\n",
    "\n",
    "df_test['visit_date'] = df_test['id'].map(lambda x: str(x).split('_')[2])\n",
    "df_test['air_store_id'] = df_test['id'].map(lambda x: '_'.join(str(x).split('_')[:2]))\n",
    "df_test['visit_date'] = pd.to_datetime(df_test['visit_date'])\n",
    "df_test['dow'] = df_test['visit_date'].dt.dayofweek\n",
    "df_test['year'] = df_test['visit_date'].dt.year\n",
    "df_test['month'] = df_test['visit_date'].dt.month\n",
    "\n",
    "unique_stores = df_test['air_store_id'].unique()\n",
    "stores = pd.concat([pd.DataFrame({'air_store_id': unique_stores, 'dow': [i]*len(unique_stores)}) for i in range(7)], axis=0, ignore_index=True).reset_index(drop=True)\n",
    "#stores.head()"
   ]
  },
  {
   "cell_type": "markdown",
   "metadata": {},
   "source": [
    "## Merge df_test with date dframe to get holiday info"
   ]
  },
  {
   "cell_type": "code",
   "execution_count": 14,
   "metadata": {},
   "outputs": [],
   "source": [
    "df_test = pd.merge(df_test, data['date'][colsToMerge], how = 'left', on = 'visit_date')"
   ]
  },
  {
   "cell_type": "code",
   "execution_count": 15,
   "metadata": {},
   "outputs": [],
   "source": [
    "stores = pd.merge(stores, data['airStore'], how='left', on=['air_store_id'])\n",
    "#stores.head()"
   ]
  },
  {
   "cell_type": "code",
   "execution_count": 16,
   "metadata": {},
   "outputs": [],
   "source": [
    "# Encode categorical string variables \n",
    "lbl = LabelEncoder()\n",
    "stores['air_genre_name'] = lbl.fit_transform(stores['air_genre_name'])\n",
    "stores['air_area_name'] = lbl.fit_transform(stores['air_area_name'])"
   ]
  },
  {
   "cell_type": "markdown",
   "metadata": {},
   "source": [
    "### Add genre and area to train and test data"
   ]
  },
  {
   "cell_type": "code",
   "execution_count": 17,
   "metadata": {},
   "outputs": [],
   "source": [
    "df_train = pd.merge(df_train, stores, how = 'left', on = ['air_store_id','dow'])"
   ]
  },
  {
   "cell_type": "markdown",
   "metadata": {},
   "source": [
    "### Add visitor statistics as features"
   ]
  },
  {
   "cell_type": "code",
   "execution_count": 18,
   "metadata": {},
   "outputs": [],
   "source": [
    "tmp = df_train.groupby(['air_store_id','dow']).agg({'visitors' : [np.min,np.mean,np.median,np.max,np.size]}).reset_index()\n",
    "tmp.columns = ['air_store_id', 'dow', 'min_visitors', 'mean_visitors', 'median_visitors','max_visitors','count_observations']\n",
    "df_train = pd.merge(df_train, tmp, how='left', on=['air_store_id','dow'])"
   ]
  },
  {
   "cell_type": "code",
   "execution_count": 19,
   "metadata": {},
   "outputs": [],
   "source": [
    "df_test = pd.merge(df_test, stores, how = 'left', on = ['air_store_id','dow'])"
   ]
  },
  {
   "cell_type": "code",
   "execution_count": 20,
   "metadata": {},
   "outputs": [],
   "source": [
    "df_test = pd.merge(df_test, tmp, how='left', on=['air_store_id','dow'])"
   ]
  },
  {
   "cell_type": "markdown",
   "metadata": {},
   "source": [
    "Note: For XGB, didn't fillna (1/28/2018)\n",
    "Other algorithms need fillna. TODO: 1) investigate why there are NaN on train set. 2) Check if XGBoost gets better score with fillna"
   ]
  },
  {
   "cell_type": "code",
   "execution_count": 21,
   "metadata": {},
   "outputs": [],
   "source": [
    "df_train = df_train.fillna(-1)\n",
    "df_test = df_test.fillna(-1)"
   ]
  },
  {
   "cell_type": "code",
   "execution_count": 22,
   "metadata": {},
   "outputs": [],
   "source": [
    "train = df_train\n",
    "test = df_test\n",
    "col = [c for c in train if c not in ['id', 'air_store_id','visit_date','visitors']]"
   ]
  },
  {
   "cell_type": "markdown",
   "metadata": {},
   "source": [
    "# Initialize XGBoost\n",
    "Note - code based on:\n",
    "https://www.kaggle.com/jmbull/no-xgb-starter-here-s-one-lb-507"
   ]
  },
  {
   "cell_type": "code",
   "execution_count": 23,
   "metadata": {},
   "outputs": [
    {
     "name": "stdout",
     "output_type": "stream",
     "text": [
      "Binding to float32\n"
     ]
    }
   ],
   "source": [
    "# XGB starter template borrowed from @anokas\n",
    "# https://www.kaggle.com/anokas/simple-xgboost-starter-0-0655\n",
    "\n",
    "print('Binding to float32')\n",
    "\n",
    "for c, dtype in zip(df_train.columns, train.dtypes):\n",
    "    if dtype == np.float64:\n",
    "        train[c] = train[c].astype(np.float32)\n",
    "        \n",
    "for c, dtype in zip(df_test.columns, test.dtypes):\n",
    "    if dtype == np.float64:\n",
    "        test[c] = test[c].astype(np.float32)"
   ]
  },
  {
   "cell_type": "markdown",
   "metadata": {},
   "source": [
    "### Use cell below for validation using same weeks as test set but in the 2016 year"
   ]
  },
  {
   "cell_type": "code",
   "execution_count": 24,
   "metadata": {},
   "outputs": [],
   "source": [
    "# Create training / validation split based on weeks in test set\n",
    "x_train_setup = train.set_index('visit_date')\n",
    "\n",
    "x_valid = x_train_setup['2016-04-23':'2016-05-31'].reset_index()\n",
    "x_train = pd.concat([x_train_setup['2016-01-01':'2016-04-22'],\n",
    "                     x_train_setup['2016-05-01':'2017-04-22']]).reset_index()\n",
    "\n",
    "# Note: taking the absolute values makes the training take a VERY long time. I will instead take the log values\n",
    "y_train = x_train['visitors']\n",
    "y_valid = x_valid['visitors']\n",
    "\n",
    "#y_train = np.log1p(x_train['visitors'].values)\n",
    "#y_valid = np.log1p(x_valid['visitors'].values)\n",
    "\n",
    "x_train = x_train.drop(['air_store_id','visit_date','visitors'], axis=1)\n",
    "x_valid = x_valid.drop(['air_store_id','visit_date','visitors'], axis=1)\n",
    "\n",
    "# Get Column order for x_test df\n",
    "colOrder = x_train.columns"
   ]
  },
  {
   "cell_type": "markdown",
   "metadata": {},
   "source": [
    "### Use cell below for validation using split based on last rows in train dataframe"
   ]
  },
  {
   "cell_type": "code",
   "execution_count": 25,
   "metadata": {},
   "outputs": [],
   "source": [
    "#x_train = train.drop(['air_store_id','visit_date','visitors'], axis=1)\n",
    "#y_train = np.log1p(train['visitors'].values)\n",
    "\n",
    "# Get Column order for x_test df\n",
    "#colOrder = x_train.columns"
   ]
  },
  {
   "cell_type": "code",
   "execution_count": 26,
   "metadata": {},
   "outputs": [],
   "source": [
    "# Create training / validation split\n",
    "#split = 200000\n",
    "#x_train, y_train, x_valid, y_valid = x_train[:split], y_train[:split], x_train[split:], y_train[split:]\n",
    "\n",
    "#print('Building DMatrix...')"
   ]
  },
  {
   "cell_type": "code",
   "execution_count": 27,
   "metadata": {},
   "outputs": [],
   "source": [
    "d_train = xgb.DMatrix(x_train, label=y_train)\n",
    "d_valid = xgb.DMatrix(x_valid, label=y_valid)\n",
    "\n",
    "#del x_train, x_valid; gc.collect()"
   ]
  },
  {
   "cell_type": "code",
   "execution_count": 28,
   "metadata": {},
   "outputs": [
    {
     "name": "stdout",
     "output_type": "stream",
     "text": [
      "Training ...\n",
      "[0]\ttrain-rmse:25.5528\tvalid-rmse:27.1192\n",
      "Multiple eval metrics have been passed: 'valid-rmse' will be used for early stopping.\n",
      "\n",
      "Will train until valid-rmse hasn't improved in 100 rounds.\n",
      "[25]\ttrain-rmse:13.5402\tvalid-rmse:14.7548\n",
      "[50]\ttrain-rmse:10.8402\tvalid-rmse:11.8402\n",
      "[75]\ttrain-rmse:10.2362\tvalid-rmse:11.1578\n",
      "[100]\ttrain-rmse:10.0008\tvalid-rmse:10.9055\n",
      "[125]\ttrain-rmse:9.86571\tvalid-rmse:10.7567\n",
      "[150]\ttrain-rmse:9.75787\tvalid-rmse:10.5687\n",
      "[175]\ttrain-rmse:9.68978\tvalid-rmse:10.4752\n",
      "[200]\ttrain-rmse:9.6464\tvalid-rmse:10.3746\n",
      "[225]\ttrain-rmse:9.58932\tvalid-rmse:10.2938\n",
      "[250]\ttrain-rmse:9.5465\tvalid-rmse:10.1916\n",
      "[275]\ttrain-rmse:9.50355\tvalid-rmse:10.1106\n",
      "[300]\ttrain-rmse:9.45862\tvalid-rmse:10.0338\n",
      "[325]\ttrain-rmse:9.4205\tvalid-rmse:9.97072\n",
      "[350]\ttrain-rmse:9.37286\tvalid-rmse:9.92065\n",
      "[375]\ttrain-rmse:9.33822\tvalid-rmse:9.87764\n",
      "[400]\ttrain-rmse:9.30211\tvalid-rmse:9.83757\n",
      "[425]\ttrain-rmse:9.26195\tvalid-rmse:9.77182\n",
      "[450]\ttrain-rmse:9.22133\tvalid-rmse:9.72019\n",
      "[475]\ttrain-rmse:9.1904\tvalid-rmse:9.6575\n",
      "[500]\ttrain-rmse:9.16683\tvalid-rmse:9.6223\n",
      "[525]\ttrain-rmse:9.1356\tvalid-rmse:9.58654\n",
      "[550]\ttrain-rmse:9.10924\tvalid-rmse:9.56609\n",
      "[575]\ttrain-rmse:9.08218\tvalid-rmse:9.54546\n",
      "[600]\ttrain-rmse:9.0542\tvalid-rmse:9.50887\n",
      "[625]\ttrain-rmse:9.03121\tvalid-rmse:9.49095\n",
      "[650]\ttrain-rmse:9.00387\tvalid-rmse:9.44889\n",
      "[675]\ttrain-rmse:8.97579\tvalid-rmse:9.43408\n",
      "[700]\ttrain-rmse:8.95232\tvalid-rmse:9.42166\n",
      "[725]\ttrain-rmse:8.92737\tvalid-rmse:9.39884\n",
      "[750]\ttrain-rmse:8.90087\tvalid-rmse:9.36735\n",
      "[775]\ttrain-rmse:8.87831\tvalid-rmse:9.3516\n",
      "[800]\ttrain-rmse:8.85549\tvalid-rmse:9.32892\n",
      "[825]\ttrain-rmse:8.83348\tvalid-rmse:9.31078\n",
      "[850]\ttrain-rmse:8.81315\tvalid-rmse:9.2902\n",
      "[875]\ttrain-rmse:8.79301\tvalid-rmse:9.27835\n",
      "[900]\ttrain-rmse:8.77018\tvalid-rmse:9.26219\n",
      "[925]\ttrain-rmse:8.74766\tvalid-rmse:9.24213\n",
      "[950]\ttrain-rmse:8.73169\tvalid-rmse:9.20574\n",
      "[975]\ttrain-rmse:8.70587\tvalid-rmse:9.19239\n",
      "[1000]\ttrain-rmse:8.68446\tvalid-rmse:9.17482\n",
      "[1025]\ttrain-rmse:8.66036\tvalid-rmse:9.16165\n",
      "[1050]\ttrain-rmse:8.64138\tvalid-rmse:9.14742\n",
      "[1075]\ttrain-rmse:8.62561\tvalid-rmse:9.13572\n",
      "[1100]\ttrain-rmse:8.60107\tvalid-rmse:9.12008\n",
      "[1125]\ttrain-rmse:8.57774\tvalid-rmse:9.10667\n",
      "[1150]\ttrain-rmse:8.56062\tvalid-rmse:9.08359\n",
      "[1175]\ttrain-rmse:8.53926\tvalid-rmse:9.06014\n",
      "[1200]\ttrain-rmse:8.52034\tvalid-rmse:9.03416\n",
      "[1225]\ttrain-rmse:8.50279\tvalid-rmse:9.01981\n",
      "[1250]\ttrain-rmse:8.4854\tvalid-rmse:9.0068\n",
      "[1275]\ttrain-rmse:8.4672\tvalid-rmse:8.98446\n",
      "[1300]\ttrain-rmse:8.44905\tvalid-rmse:8.97369\n",
      "[1325]\ttrain-rmse:8.4337\tvalid-rmse:8.96234\n",
      "[1350]\ttrain-rmse:8.42179\tvalid-rmse:8.9354\n",
      "[1375]\ttrain-rmse:8.40209\tvalid-rmse:8.93148\n",
      "[1400]\ttrain-rmse:8.38136\tvalid-rmse:8.91999\n",
      "[1425]\ttrain-rmse:8.36495\tvalid-rmse:8.90945\n",
      "[1450]\ttrain-rmse:8.3476\tvalid-rmse:8.87495\n",
      "[1475]\ttrain-rmse:8.33354\tvalid-rmse:8.83129\n",
      "[1500]\ttrain-rmse:8.31837\tvalid-rmse:8.8211\n",
      "[1525]\ttrain-rmse:8.30538\tvalid-rmse:8.80565\n",
      "[1550]\ttrain-rmse:8.29021\tvalid-rmse:8.78662\n",
      "[1575]\ttrain-rmse:8.27732\tvalid-rmse:8.77771\n",
      "[1600]\ttrain-rmse:8.26179\tvalid-rmse:8.74767\n",
      "[1625]\ttrain-rmse:8.24139\tvalid-rmse:8.68371\n",
      "[1650]\ttrain-rmse:8.22724\tvalid-rmse:8.62113\n",
      "[1675]\ttrain-rmse:8.21305\tvalid-rmse:8.59612\n",
      "[1700]\ttrain-rmse:8.20262\tvalid-rmse:8.58293\n",
      "[1725]\ttrain-rmse:8.19045\tvalid-rmse:8.5629\n",
      "[1750]\ttrain-rmse:8.1802\tvalid-rmse:8.52649\n",
      "[1775]\ttrain-rmse:8.16598\tvalid-rmse:8.5122\n",
      "[1800]\ttrain-rmse:8.15279\tvalid-rmse:8.50045\n",
      "[1825]\ttrain-rmse:8.14154\tvalid-rmse:8.48145\n",
      "[1850]\ttrain-rmse:8.13276\tvalid-rmse:8.47868\n",
      "[1875]\ttrain-rmse:8.11938\tvalid-rmse:8.46779\n",
      "[1900]\ttrain-rmse:8.10379\tvalid-rmse:8.46199\n",
      "[1925]\ttrain-rmse:8.09058\tvalid-rmse:8.45521\n",
      "[1950]\ttrain-rmse:8.07903\tvalid-rmse:8.44286\n",
      "[1975]\ttrain-rmse:8.06516\tvalid-rmse:8.43399\n",
      "[2000]\ttrain-rmse:8.05359\tvalid-rmse:8.42568\n",
      "[2025]\ttrain-rmse:8.03758\tvalid-rmse:8.41881\n",
      "[2050]\ttrain-rmse:8.01919\tvalid-rmse:8.41091\n",
      "[2075]\ttrain-rmse:8.00173\tvalid-rmse:8.40208\n",
      "[2100]\ttrain-rmse:7.98916\tvalid-rmse:8.39571\n",
      "[2125]\ttrain-rmse:7.97539\tvalid-rmse:8.38928\n",
      "[2150]\ttrain-rmse:7.95733\tvalid-rmse:8.3642\n",
      "[2175]\ttrain-rmse:7.94244\tvalid-rmse:8.34091\n",
      "[2200]\ttrain-rmse:7.92679\tvalid-rmse:8.32798\n",
      "[2225]\ttrain-rmse:7.9179\tvalid-rmse:8.32111\n",
      "[2250]\ttrain-rmse:7.90932\tvalid-rmse:8.31198\n",
      "[2275]\ttrain-rmse:7.89472\tvalid-rmse:8.30242\n",
      "[2300]\ttrain-rmse:7.88188\tvalid-rmse:8.28189\n",
      "[2325]\ttrain-rmse:7.86804\tvalid-rmse:8.27085\n",
      "[2350]\ttrain-rmse:7.85583\tvalid-rmse:8.259\n",
      "[2375]\ttrain-rmse:7.84477\tvalid-rmse:8.25456\n",
      "[2400]\ttrain-rmse:7.83472\tvalid-rmse:8.25107\n",
      "[2425]\ttrain-rmse:7.82005\tvalid-rmse:8.23289\n",
      "[2450]\ttrain-rmse:7.80769\tvalid-rmse:8.19816\n",
      "[2475]\ttrain-rmse:7.79718\tvalid-rmse:8.18354\n",
      "[2500]\ttrain-rmse:7.78501\tvalid-rmse:8.16804\n",
      "[2525]\ttrain-rmse:7.77483\tvalid-rmse:8.14801\n",
      "[2550]\ttrain-rmse:7.76718\tvalid-rmse:8.13451\n",
      "[2575]\ttrain-rmse:7.76167\tvalid-rmse:8.1331\n",
      "[2600]\ttrain-rmse:7.75458\tvalid-rmse:8.11941\n",
      "[2625]\ttrain-rmse:7.74389\tvalid-rmse:8.10501\n",
      "[2650]\ttrain-rmse:7.73261\tvalid-rmse:8.0966\n",
      "[2675]\ttrain-rmse:7.72268\tvalid-rmse:8.09449\n",
      "[2700]\ttrain-rmse:7.71027\tvalid-rmse:8.08985\n",
      "[2725]\ttrain-rmse:7.69936\tvalid-rmse:8.08536\n",
      "[2750]\ttrain-rmse:7.68667\tvalid-rmse:8.0773\n",
      "[2775]\ttrain-rmse:7.67521\tvalid-rmse:8.07052\n",
      "[2800]\ttrain-rmse:7.66295\tvalid-rmse:8.06359\n",
      "[2825]\ttrain-rmse:7.65465\tvalid-rmse:8.05982\n",
      "[2850]\ttrain-rmse:7.64566\tvalid-rmse:8.05372\n",
      "[2875]\ttrain-rmse:7.63253\tvalid-rmse:8.04912\n",
      "[2900]\ttrain-rmse:7.61954\tvalid-rmse:8.04337\n",
      "[2925]\ttrain-rmse:7.61037\tvalid-rmse:8.03611\n",
      "[2950]\ttrain-rmse:7.59865\tvalid-rmse:8.02811\n",
      "[2975]\ttrain-rmse:7.58472\tvalid-rmse:8.02074\n",
      "[3000]\ttrain-rmse:7.5746\tvalid-rmse:8.01495\n",
      "[3025]\ttrain-rmse:7.56575\tvalid-rmse:8.00809\n",
      "[3050]\ttrain-rmse:7.55669\tvalid-rmse:8.00253\n",
      "[3075]\ttrain-rmse:7.54715\tvalid-rmse:7.9862\n",
      "[3100]\ttrain-rmse:7.54033\tvalid-rmse:7.98344\n",
      "[3125]\ttrain-rmse:7.53405\tvalid-rmse:7.97018\n",
      "[3150]\ttrain-rmse:7.52226\tvalid-rmse:7.9622\n",
      "[3175]\ttrain-rmse:7.51158\tvalid-rmse:7.93544\n",
      "[3200]\ttrain-rmse:7.50044\tvalid-rmse:7.92599\n",
      "[3225]\ttrain-rmse:7.4923\tvalid-rmse:7.91262\n",
      "[3250]\ttrain-rmse:7.48386\tvalid-rmse:7.90704\n",
      "[3275]\ttrain-rmse:7.47572\tvalid-rmse:7.89651\n",
      "[3300]\ttrain-rmse:7.4677\tvalid-rmse:7.87759\n",
      "[3325]\ttrain-rmse:7.45698\tvalid-rmse:7.87226\n",
      "[3350]\ttrain-rmse:7.44584\tvalid-rmse:7.86445\n",
      "[3375]\ttrain-rmse:7.43529\tvalid-rmse:7.85733\n",
      "[3400]\ttrain-rmse:7.42519\tvalid-rmse:7.85335\n",
      "[3425]\ttrain-rmse:7.41402\tvalid-rmse:7.84552\n",
      "[3450]\ttrain-rmse:7.40657\tvalid-rmse:7.84237\n",
      "[3475]\ttrain-rmse:7.39522\tvalid-rmse:7.83576\n",
      "[3500]\ttrain-rmse:7.38366\tvalid-rmse:7.82875\n",
      "[3525]\ttrain-rmse:7.37275\tvalid-rmse:7.82106\n",
      "[3550]\ttrain-rmse:7.36289\tvalid-rmse:7.81683\n",
      "[3575]\ttrain-rmse:7.3511\tvalid-rmse:7.80955\n",
      "[3600]\ttrain-rmse:7.33985\tvalid-rmse:7.80418\n",
      "[3625]\ttrain-rmse:7.32962\tvalid-rmse:7.79932\n",
      "[3650]\ttrain-rmse:7.32035\tvalid-rmse:7.79425\n",
      "[3675]\ttrain-rmse:7.31163\tvalid-rmse:7.79215\n",
      "[3700]\ttrain-rmse:7.30155\tvalid-rmse:7.78709\n",
      "[3725]\ttrain-rmse:7.29475\tvalid-rmse:7.78486\n",
      "[3750]\ttrain-rmse:7.28343\tvalid-rmse:7.77954\n",
      "[3775]\ttrain-rmse:7.2751\tvalid-rmse:7.77432\n",
      "[3800]\ttrain-rmse:7.26403\tvalid-rmse:7.76995\n",
      "[3825]\ttrain-rmse:7.25714\tvalid-rmse:7.76596\n",
      "[3850]\ttrain-rmse:7.24694\tvalid-rmse:7.7601\n",
      "[3875]\ttrain-rmse:7.23614\tvalid-rmse:7.75499\n",
      "[3900]\ttrain-rmse:7.22647\tvalid-rmse:7.74479\n",
      "[3925]\ttrain-rmse:7.21611\tvalid-rmse:7.73895\n",
      "[3950]\ttrain-rmse:7.20504\tvalid-rmse:7.73468\n",
      "[3975]\ttrain-rmse:7.19466\tvalid-rmse:7.72796\n",
      "[4000]\ttrain-rmse:7.18865\tvalid-rmse:7.72276\n",
      "[4025]\ttrain-rmse:7.18035\tvalid-rmse:7.71677\n",
      "[4050]\ttrain-rmse:7.17056\tvalid-rmse:7.71032\n",
      "[4075]\ttrain-rmse:7.16216\tvalid-rmse:7.70761\n",
      "[4100]\ttrain-rmse:7.15411\tvalid-rmse:7.70294\n",
      "[4125]\ttrain-rmse:7.14562\tvalid-rmse:7.69409\n",
      "[4150]\ttrain-rmse:7.13703\tvalid-rmse:7.68518\n",
      "[4175]\ttrain-rmse:7.12667\tvalid-rmse:7.67754\n",
      "[4200]\ttrain-rmse:7.11208\tvalid-rmse:7.67086\n",
      "[4225]\ttrain-rmse:7.10391\tvalid-rmse:7.66837\n",
      "[4250]\ttrain-rmse:7.09473\tvalid-rmse:7.66189\n",
      "[4275]\ttrain-rmse:7.08632\tvalid-rmse:7.65779\n",
      "[4300]\ttrain-rmse:7.07814\tvalid-rmse:7.64832\n",
      "[4325]\ttrain-rmse:7.06964\tvalid-rmse:7.64446\n",
      "[4350]\ttrain-rmse:7.0632\tvalid-rmse:7.6407\n",
      "[4375]\ttrain-rmse:7.05551\tvalid-rmse:7.63567\n",
      "[4400]\ttrain-rmse:7.04589\tvalid-rmse:7.62985\n",
      "[4425]\ttrain-rmse:7.03934\tvalid-rmse:7.62601\n",
      "[4450]\ttrain-rmse:7.0304\tvalid-rmse:7.6226\n",
      "[4475]\ttrain-rmse:7.02135\tvalid-rmse:7.61772\n",
      "[4500]\ttrain-rmse:7.00845\tvalid-rmse:7.61319\n"
     ]
    },
    {
     "name": "stdout",
     "output_type": "stream",
     "text": [
      "[4525]\ttrain-rmse:6.99902\tvalid-rmse:7.60716\n",
      "[4550]\ttrain-rmse:6.9908\tvalid-rmse:7.60306\n",
      "[4575]\ttrain-rmse:6.98306\tvalid-rmse:7.59844\n",
      "[4600]\ttrain-rmse:6.97631\tvalid-rmse:7.59609\n",
      "[4625]\ttrain-rmse:6.96776\tvalid-rmse:7.59234\n",
      "[4650]\ttrain-rmse:6.95801\tvalid-rmse:7.58776\n",
      "[4675]\ttrain-rmse:6.94922\tvalid-rmse:7.58365\n",
      "[4700]\ttrain-rmse:6.93858\tvalid-rmse:7.57633\n",
      "[4725]\ttrain-rmse:6.93017\tvalid-rmse:7.56779\n",
      "[4750]\ttrain-rmse:6.92309\tvalid-rmse:7.56395\n",
      "[4775]\ttrain-rmse:6.91468\tvalid-rmse:7.55642\n",
      "[4800]\ttrain-rmse:6.90354\tvalid-rmse:7.54908\n",
      "[4825]\ttrain-rmse:6.89687\tvalid-rmse:7.54565\n",
      "[4850]\ttrain-rmse:6.88818\tvalid-rmse:7.54145\n",
      "[4875]\ttrain-rmse:6.88036\tvalid-rmse:7.53486\n",
      "[4900]\ttrain-rmse:6.87163\tvalid-rmse:7.52891\n",
      "[4925]\ttrain-rmse:6.86297\tvalid-rmse:7.5241\n",
      "[4950]\ttrain-rmse:6.85391\tvalid-rmse:7.51668\n",
      "[4975]\ttrain-rmse:6.84637\tvalid-rmse:7.50904\n",
      "[5000]\ttrain-rmse:6.83733\tvalid-rmse:7.5017\n",
      "[5025]\ttrain-rmse:6.83098\tvalid-rmse:7.49511\n",
      "[5050]\ttrain-rmse:6.82207\tvalid-rmse:7.49121\n",
      "[5075]\ttrain-rmse:6.81627\tvalid-rmse:7.48947\n",
      "[5100]\ttrain-rmse:6.80764\tvalid-rmse:7.48442\n",
      "[5125]\ttrain-rmse:6.7989\tvalid-rmse:7.47942\n",
      "[5150]\ttrain-rmse:6.79197\tvalid-rmse:7.47537\n",
      "[5175]\ttrain-rmse:6.78511\tvalid-rmse:7.4716\n",
      "[5200]\ttrain-rmse:6.77754\tvalid-rmse:7.46125\n",
      "[5225]\ttrain-rmse:6.77029\tvalid-rmse:7.45479\n",
      "[5250]\ttrain-rmse:6.76593\tvalid-rmse:7.45229\n",
      "[5275]\ttrain-rmse:6.758\tvalid-rmse:7.4424\n",
      "[5300]\ttrain-rmse:6.75142\tvalid-rmse:7.43886\n",
      "[5325]\ttrain-rmse:6.74318\tvalid-rmse:7.43518\n",
      "[5350]\ttrain-rmse:6.73843\tvalid-rmse:7.43295\n",
      "[5375]\ttrain-rmse:6.73218\tvalid-rmse:7.42792\n",
      "[5400]\ttrain-rmse:6.72598\tvalid-rmse:7.42404\n",
      "[5425]\ttrain-rmse:6.72055\tvalid-rmse:7.41952\n",
      "[5450]\ttrain-rmse:6.71396\tvalid-rmse:7.41623\n",
      "[5475]\ttrain-rmse:6.70779\tvalid-rmse:7.39877\n",
      "[5500]\ttrain-rmse:6.69898\tvalid-rmse:7.39441\n",
      "[5525]\ttrain-rmse:6.6914\tvalid-rmse:7.39215\n",
      "[5550]\ttrain-rmse:6.68265\tvalid-rmse:7.38496\n",
      "[5575]\ttrain-rmse:6.67604\tvalid-rmse:7.38327\n",
      "[5600]\ttrain-rmse:6.66887\tvalid-rmse:7.38103\n",
      "[5625]\ttrain-rmse:6.66201\tvalid-rmse:7.37967\n",
      "[5650]\ttrain-rmse:6.65111\tvalid-rmse:7.37323\n",
      "[5675]\ttrain-rmse:6.64064\tvalid-rmse:7.36885\n",
      "[5700]\ttrain-rmse:6.63229\tvalid-rmse:7.365\n",
      "[5725]\ttrain-rmse:6.62186\tvalid-rmse:7.36043\n",
      "[5750]\ttrain-rmse:6.61435\tvalid-rmse:7.35676\n",
      "[5775]\ttrain-rmse:6.60637\tvalid-rmse:7.35124\n",
      "[5800]\ttrain-rmse:6.59755\tvalid-rmse:7.34176\n",
      "[5825]\ttrain-rmse:6.59003\tvalid-rmse:7.33856\n",
      "[5850]\ttrain-rmse:6.58132\tvalid-rmse:7.33512\n",
      "[5875]\ttrain-rmse:6.57259\tvalid-rmse:7.32784\n",
      "[5900]\ttrain-rmse:6.56555\tvalid-rmse:7.32508\n",
      "[5925]\ttrain-rmse:6.55349\tvalid-rmse:7.32207\n",
      "[5950]\ttrain-rmse:6.54214\tvalid-rmse:7.3158\n",
      "[5975]\ttrain-rmse:6.53374\tvalid-rmse:7.31114\n",
      "[6000]\ttrain-rmse:6.52448\tvalid-rmse:7.30587\n",
      "[6025]\ttrain-rmse:6.51884\tvalid-rmse:7.30208\n",
      "[6050]\ttrain-rmse:6.5126\tvalid-rmse:7.29904\n",
      "[6075]\ttrain-rmse:6.50615\tvalid-rmse:7.29559\n",
      "[6100]\ttrain-rmse:6.49962\tvalid-rmse:7.28907\n",
      "[6125]\ttrain-rmse:6.49231\tvalid-rmse:7.27881\n",
      "[6150]\ttrain-rmse:6.48494\tvalid-rmse:7.27679\n",
      "[6175]\ttrain-rmse:6.47641\tvalid-rmse:7.27324\n",
      "[6200]\ttrain-rmse:6.46817\tvalid-rmse:7.2619\n",
      "[6225]\ttrain-rmse:6.45805\tvalid-rmse:7.25563\n",
      "[6250]\ttrain-rmse:6.44939\tvalid-rmse:7.25101\n",
      "[6275]\ttrain-rmse:6.44278\tvalid-rmse:7.24673\n",
      "[6300]\ttrain-rmse:6.43523\tvalid-rmse:7.24294\n",
      "[6325]\ttrain-rmse:6.42819\tvalid-rmse:7.23955\n",
      "[6350]\ttrain-rmse:6.42301\tvalid-rmse:7.23628\n",
      "[6375]\ttrain-rmse:6.41622\tvalid-rmse:7.22994\n",
      "[6400]\ttrain-rmse:6.41089\tvalid-rmse:7.22659\n",
      "[6425]\ttrain-rmse:6.40704\tvalid-rmse:7.223\n",
      "[6450]\ttrain-rmse:6.40406\tvalid-rmse:7.22173\n",
      "[6475]\ttrain-rmse:6.39453\tvalid-rmse:7.21524\n",
      "[6500]\ttrain-rmse:6.38662\tvalid-rmse:7.21284\n",
      "[6525]\ttrain-rmse:6.37993\tvalid-rmse:7.21089\n",
      "[6550]\ttrain-rmse:6.37145\tvalid-rmse:7.20751\n",
      "[6575]\ttrain-rmse:6.36528\tvalid-rmse:7.19702\n",
      "[6600]\ttrain-rmse:6.35925\tvalid-rmse:7.18384\n",
      "[6625]\ttrain-rmse:6.35219\tvalid-rmse:7.17341\n",
      "[6650]\ttrain-rmse:6.34484\tvalid-rmse:7.17099\n",
      "[6675]\ttrain-rmse:6.3383\tvalid-rmse:7.15862\n",
      "[6700]\ttrain-rmse:6.33012\tvalid-rmse:7.15349\n",
      "[6725]\ttrain-rmse:6.32336\tvalid-rmse:7.14814\n",
      "[6750]\ttrain-rmse:6.31723\tvalid-rmse:7.1442\n",
      "[6775]\ttrain-rmse:6.31094\tvalid-rmse:7.1421\n",
      "[6800]\ttrain-rmse:6.30555\tvalid-rmse:7.13971\n",
      "[6825]\ttrain-rmse:6.29939\tvalid-rmse:7.13159\n",
      "[6850]\ttrain-rmse:6.29399\tvalid-rmse:7.12968\n",
      "[6875]\ttrain-rmse:6.28908\tvalid-rmse:7.12812\n",
      "[6900]\ttrain-rmse:6.28358\tvalid-rmse:7.12388\n",
      "[6925]\ttrain-rmse:6.27677\tvalid-rmse:7.12011\n",
      "[6950]\ttrain-rmse:6.26919\tvalid-rmse:7.11441\n",
      "[6975]\ttrain-rmse:6.26349\tvalid-rmse:7.11236\n",
      "[7000]\ttrain-rmse:6.25793\tvalid-rmse:7.10493\n",
      "[7025]\ttrain-rmse:6.25207\tvalid-rmse:7.09683\n",
      "[7050]\ttrain-rmse:6.24526\tvalid-rmse:7.09443\n",
      "[7075]\ttrain-rmse:6.23969\tvalid-rmse:7.09026\n",
      "[7100]\ttrain-rmse:6.23269\tvalid-rmse:7.08179\n",
      "[7125]\ttrain-rmse:6.22681\tvalid-rmse:7.08055\n",
      "[7150]\ttrain-rmse:6.21994\tvalid-rmse:7.07479\n",
      "[7175]\ttrain-rmse:6.21192\tvalid-rmse:7.07267\n",
      "[7200]\ttrain-rmse:6.204\tvalid-rmse:7.06954\n",
      "[7225]\ttrain-rmse:6.19903\tvalid-rmse:7.06718\n",
      "[7250]\ttrain-rmse:6.19304\tvalid-rmse:7.06032\n",
      "[7275]\ttrain-rmse:6.18745\tvalid-rmse:7.05209\n",
      "[7300]\ttrain-rmse:6.18005\tvalid-rmse:7.04353\n",
      "[7325]\ttrain-rmse:6.17276\tvalid-rmse:7.04107\n",
      "[7350]\ttrain-rmse:6.16654\tvalid-rmse:7.0366\n",
      "[7375]\ttrain-rmse:6.15998\tvalid-rmse:7.03436\n",
      "[7400]\ttrain-rmse:6.15361\tvalid-rmse:7.03259\n",
      "[7425]\ttrain-rmse:6.1469\tvalid-rmse:7.03011\n",
      "[7450]\ttrain-rmse:6.14193\tvalid-rmse:7.02921\n",
      "[7475]\ttrain-rmse:6.13558\tvalid-rmse:7.02649\n",
      "[7500]\ttrain-rmse:6.12895\tvalid-rmse:7.02277\n",
      "[7525]\ttrain-rmse:6.12111\tvalid-rmse:7.0188\n",
      "[7550]\ttrain-rmse:6.11519\tvalid-rmse:7.01552\n",
      "[7575]\ttrain-rmse:6.10909\tvalid-rmse:7.01037\n",
      "[7600]\ttrain-rmse:6.10373\tvalid-rmse:7.00997\n",
      "[7625]\ttrain-rmse:6.0986\tvalid-rmse:7.00794\n",
      "[7650]\ttrain-rmse:6.0926\tvalid-rmse:7.0057\n",
      "[7675]\ttrain-rmse:6.08637\tvalid-rmse:7.00292\n",
      "[7700]\ttrain-rmse:6.08198\tvalid-rmse:6.99973\n",
      "[7725]\ttrain-rmse:6.07741\tvalid-rmse:6.98883\n",
      "[7750]\ttrain-rmse:6.07163\tvalid-rmse:6.98249\n",
      "[7775]\ttrain-rmse:6.06615\tvalid-rmse:6.97957\n",
      "[7800]\ttrain-rmse:6.06061\tvalid-rmse:6.97474\n",
      "[7825]\ttrain-rmse:6.05488\tvalid-rmse:6.96737\n",
      "[7850]\ttrain-rmse:6.05\tvalid-rmse:6.96364\n",
      "[7875]\ttrain-rmse:6.04031\tvalid-rmse:6.95955\n",
      "[7900]\ttrain-rmse:6.03254\tvalid-rmse:6.95547\n",
      "[7925]\ttrain-rmse:6.02603\tvalid-rmse:6.94747\n",
      "[7950]\ttrain-rmse:6.01756\tvalid-rmse:6.94424\n",
      "[7975]\ttrain-rmse:6.01111\tvalid-rmse:6.93894\n",
      "[8000]\ttrain-rmse:6.00502\tvalid-rmse:6.92979\n",
      "[8025]\ttrain-rmse:5.99875\tvalid-rmse:6.92282\n",
      "[8050]\ttrain-rmse:5.99165\tvalid-rmse:6.92017\n",
      "[8075]\ttrain-rmse:5.98618\tvalid-rmse:6.9084\n",
      "[8100]\ttrain-rmse:5.97845\tvalid-rmse:6.90641\n",
      "[8125]\ttrain-rmse:5.972\tvalid-rmse:6.904\n",
      "[8150]\ttrain-rmse:5.96415\tvalid-rmse:6.90147\n",
      "[8175]\ttrain-rmse:5.95755\tvalid-rmse:6.89888\n",
      "[8200]\ttrain-rmse:5.95052\tvalid-rmse:6.89718\n",
      "[8225]\ttrain-rmse:5.94465\tvalid-rmse:6.89582\n",
      "[8250]\ttrain-rmse:5.93974\tvalid-rmse:6.89319\n",
      "[8275]\ttrain-rmse:5.9336\tvalid-rmse:6.88602\n",
      "[8300]\ttrain-rmse:5.92861\tvalid-rmse:6.88361\n",
      "[8325]\ttrain-rmse:5.92358\tvalid-rmse:6.88245\n",
      "[8350]\ttrain-rmse:5.9175\tvalid-rmse:6.87992\n",
      "[8375]\ttrain-rmse:5.91295\tvalid-rmse:6.87838\n",
      "[8400]\ttrain-rmse:5.90869\tvalid-rmse:6.87652\n",
      "[8425]\ttrain-rmse:5.90195\tvalid-rmse:6.8736\n",
      "[8450]\ttrain-rmse:5.89518\tvalid-rmse:6.86985\n",
      "[8475]\ttrain-rmse:5.8895\tvalid-rmse:6.86823\n",
      "[8500]\ttrain-rmse:5.88416\tvalid-rmse:6.86463\n",
      "[8525]\ttrain-rmse:5.87658\tvalid-rmse:6.85947\n",
      "[8550]\ttrain-rmse:5.87001\tvalid-rmse:6.85728\n",
      "[8575]\ttrain-rmse:5.8618\tvalid-rmse:6.85198\n",
      "[8600]\ttrain-rmse:5.85673\tvalid-rmse:6.84946\n",
      "[8625]\ttrain-rmse:5.85224\tvalid-rmse:6.84844\n",
      "[8650]\ttrain-rmse:5.84665\tvalid-rmse:6.84668\n",
      "[8675]\ttrain-rmse:5.83821\tvalid-rmse:6.84476\n",
      "[8700]\ttrain-rmse:5.83222\tvalid-rmse:6.84268\n",
      "[8725]\ttrain-rmse:5.82768\tvalid-rmse:6.83957\n",
      "[8750]\ttrain-rmse:5.82451\tvalid-rmse:6.83882\n",
      "[8775]\ttrain-rmse:5.81925\tvalid-rmse:6.83749\n",
      "[8800]\ttrain-rmse:5.81295\tvalid-rmse:6.83355\n",
      "[8825]\ttrain-rmse:5.80792\tvalid-rmse:6.83203\n",
      "[8850]\ttrain-rmse:5.80111\tvalid-rmse:6.82963\n",
      "[8875]\ttrain-rmse:5.79473\tvalid-rmse:6.82606\n",
      "[8900]\ttrain-rmse:5.78803\tvalid-rmse:6.82341\n",
      "[8925]\ttrain-rmse:5.78099\tvalid-rmse:6.82068\n",
      "[8950]\ttrain-rmse:5.77621\tvalid-rmse:6.81833\n",
      "[8975]\ttrain-rmse:5.77137\tvalid-rmse:6.81646\n",
      "[9000]\ttrain-rmse:5.76663\tvalid-rmse:6.81467\n",
      "[9025]\ttrain-rmse:5.76136\tvalid-rmse:6.81317\n",
      "[9050]\ttrain-rmse:5.75687\tvalid-rmse:6.81174\n",
      "[9075]\ttrain-rmse:5.75389\tvalid-rmse:6.81063\n"
     ]
    },
    {
     "name": "stdout",
     "output_type": "stream",
     "text": [
      "[9100]\ttrain-rmse:5.74944\tvalid-rmse:6.80729\n",
      "[9125]\ttrain-rmse:5.74672\tvalid-rmse:6.80588\n",
      "[9150]\ttrain-rmse:5.74058\tvalid-rmse:6.80362\n",
      "[9175]\ttrain-rmse:5.73655\tvalid-rmse:6.80232\n",
      "[9200]\ttrain-rmse:5.73178\tvalid-rmse:6.79436\n",
      "[9225]\ttrain-rmse:5.72467\tvalid-rmse:6.79146\n",
      "[9250]\ttrain-rmse:5.71722\tvalid-rmse:6.78724\n",
      "[9275]\ttrain-rmse:5.71278\tvalid-rmse:6.78547\n",
      "[9300]\ttrain-rmse:5.70655\tvalid-rmse:6.78347\n",
      "[9325]\ttrain-rmse:5.70044\tvalid-rmse:6.7823\n",
      "[9350]\ttrain-rmse:5.69637\tvalid-rmse:6.7812\n",
      "[9375]\ttrain-rmse:5.69057\tvalid-rmse:6.77819\n",
      "[9400]\ttrain-rmse:5.68439\tvalid-rmse:6.77455\n",
      "[9425]\ttrain-rmse:5.67858\tvalid-rmse:6.77192\n",
      "[9450]\ttrain-rmse:5.67349\tvalid-rmse:6.76998\n",
      "[9475]\ttrain-rmse:5.66887\tvalid-rmse:6.76727\n",
      "[9500]\ttrain-rmse:5.66397\tvalid-rmse:6.76534\n",
      "[9525]\ttrain-rmse:5.65831\tvalid-rmse:6.76176\n",
      "[9550]\ttrain-rmse:5.65372\tvalid-rmse:6.75912\n",
      "[9575]\ttrain-rmse:5.64952\tvalid-rmse:6.75758\n",
      "[9600]\ttrain-rmse:5.64482\tvalid-rmse:6.75493\n",
      "[9625]\ttrain-rmse:5.63901\tvalid-rmse:6.75115\n",
      "[9650]\ttrain-rmse:5.63464\tvalid-rmse:6.74777\n",
      "[9675]\ttrain-rmse:5.62965\tvalid-rmse:6.74357\n",
      "[9700]\ttrain-rmse:5.62646\tvalid-rmse:6.7422\n",
      "[9725]\ttrain-rmse:5.62028\tvalid-rmse:6.74013\n",
      "[9750]\ttrain-rmse:5.61604\tvalid-rmse:6.73823\n",
      "[9775]\ttrain-rmse:5.61046\tvalid-rmse:6.73613\n",
      "[9800]\ttrain-rmse:5.60469\tvalid-rmse:6.73376\n",
      "[9825]\ttrain-rmse:5.5997\tvalid-rmse:6.73227\n",
      "[9850]\ttrain-rmse:5.59479\tvalid-rmse:6.7303\n",
      "[9875]\ttrain-rmse:5.59065\tvalid-rmse:6.72806\n",
      "[9900]\ttrain-rmse:5.58647\tvalid-rmse:6.72724\n",
      "[9925]\ttrain-rmse:5.58136\tvalid-rmse:6.72668\n",
      "[9950]\ttrain-rmse:5.57609\tvalid-rmse:6.72396\n",
      "[9975]\ttrain-rmse:5.57226\tvalid-rmse:6.72251\n",
      "[9999]\ttrain-rmse:5.56801\tvalid-rmse:6.72059\n"
     ]
    }
   ],
   "source": [
    "print('Training ...')\n",
    "\n",
    "params = {}\n",
    "params['objective'] = 'reg:linear'\n",
    "params['eval_metric'] = 'rmse'\n",
    "params['eta'] = 0.04\n",
    "params['max_depth'] = 7\n",
    "params['silent'] = 1\n",
    "\n",
    "watchlist = [(d_train, 'train'), (d_valid, 'valid')]\n",
    "clf = xgb.train(params, d_train, 10000, watchlist, early_stopping_rounds=100, verbose_eval=25)\n",
    "\n",
    "#del d_train, d_valid"
   ]
  },
  {
   "cell_type": "code",
   "execution_count": 29,
   "metadata": {},
   "outputs": [],
   "source": [
    "#print(clf.feature_names)\n",
    "#xgb.plot_tree(clf, num_trees=0,rankdir='LR')\n",
    "#fig = plt.gcf()\n",
    "#fig.set_size_inches(150, 100)\n",
    "#fig.savefig('tree.png')"
   ]
  },
  {
   "cell_type": "code",
   "execution_count": 30,
   "metadata": {},
   "outputs": [
    {
     "data": {
      "text/plain": [
       "<matplotlib.axes._subplots.AxesSubplot at 0x1cc03518>"
      ]
     },
     "execution_count": 30,
     "metadata": {},
     "output_type": "execute_result"
    },
    {
     "data": {
      "image/png": "[encoded data removed]",
      "text/plain": [
       "<matplotlib.figure.Figure at 0x1ce46a58>"
      ]
     },
     "metadata": {},
     "output_type": "display_data"
    }
   ],
   "source": [
    "xgb.plot_importance(clf)"
   ]
  },
  {
   "cell_type": "markdown",
   "metadata": {},
   "source": [
    "# Save the XBoost trained model"
   ]
  },
  {
   "cell_type": "code",
   "execution_count": 31,
   "metadata": {},
   "outputs": [],
   "source": [
    "import pickle"
   ]
  },
  {
   "cell_type": "code",
   "execution_count": 32,
   "metadata": {},
   "outputs": [],
   "source": [
    "pickle.dump(clf, open(\"recruit_rest_xgb.pickle.dat\",\"wb\"))"
   ]
  },
  {
   "cell_type": "markdown",
   "metadata": {},
   "source": [
    "NOTE: To later retrieve the trained model, use command below: \n",
    "\n",
    "taken from:\n",
    "https://machinelearningmastery.com/save-gradient-boosting-models-xgboost-python/"
   ]
  },
  {
   "cell_type": "code",
   "execution_count": 33,
   "metadata": {},
   "outputs": [],
   "source": [
    "load_model = pickle.load(open(\"recruit_rest_xgb.pickle.dat\",\"rb\"))"
   ]
  },
  {
   "cell_type": "markdown",
   "metadata": {},
   "source": [
    "#### Use ewma feature in test set\n",
    "1. Assign ewma to 1st week of test set using last week of training\n",
    "2. Predict\n",
    "3. Calc ewma for 2nd week of test set\n",
    "4. predict again"
   ]
  },
  {
   "cell_type": "code",
   "execution_count": 34,
   "metadata": {},
   "outputs": [],
   "source": [
    "# Get dataframe for last week of training set and only use store\n",
    "x_train_lastWk = train[['air_store_id','visit_date','dow','ewma']]\n",
    "x_train_lastWk = x_train_lastWk[x_train_lastWk['visit_date'] > '2017-04-15']"
   ]
  },
  {
   "cell_type": "code",
   "execution_count": 35,
   "metadata": {},
   "outputs": [],
   "source": [
    "# Split test by weeks [note that weeks start on day 6 (Sunday) rather than day 0 (Monday)]\n",
    "test.index = test['visit_date']\n",
    "\n",
    "testWk1 = test['2017-04-23':'2017-04-29']\n",
    "testWk2 = test['2017-04-30':'2017-05-06']\n",
    "testWk3 = test['2017-05-07':'2017-05-13']\n",
    "testWk4 = test['2017-05-14':'2017-05-20']\n",
    "testWk5 = test['2017-05-21':'2017-05-27']\n",
    "testWk6 = test['2017-05-28':'2017-06-01']"
   ]
  },
  {
   "cell_type": "code",
   "execution_count": 36,
   "metadata": {},
   "outputs": [],
   "source": [
    "testWk1_pred = pd.merge(testWk1, x_train_lastWk.drop('visit_date',axis=1),how='left',on=['air_store_id','dow'])"
   ]
  },
  {
   "cell_type": "code",
   "execution_count": 37,
   "metadata": {},
   "outputs": [],
   "source": [
    "#testWk1_pred['ewma'] = testWk1_pred['ewma'].fillna(value=0)"
   ]
  },
  {
   "cell_type": "code",
   "execution_count": 38,
   "metadata": {},
   "outputs": [
    {
     "data": {
      "text/html": [
       "<div>\n",
       "<table border=\"1\" class=\"dataframe\">\n",
       "  <thead>\n",
       "    <tr style=\"text-align: right;\">\n",
       "      <th></th>\n",
       "      <th>id</th>\n",
       "      <th>visitors</th>\n",
       "      <th>visit_date</th>\n",
       "      <th>air_store_id</th>\n",
       "      <th>dow</th>\n",
       "      <th>year</th>\n",
       "      <th>month</th>\n",
       "      <th>holiday_flg</th>\n",
       "      <th>days_until_holiday</th>\n",
       "      <th>days_since_holiday</th>\n",
       "      <th>air_genre_name</th>\n",
       "      <th>air_area_name</th>\n",
       "      <th>latitude</th>\n",
       "      <th>longitude</th>\n",
       "      <th>min_visitors</th>\n",
       "      <th>mean_visitors</th>\n",
       "      <th>median_visitors</th>\n",
       "      <th>max_visitors</th>\n",
       "      <th>count_observations</th>\n",
       "      <th>ewma</th>\n",
       "    </tr>\n",
       "  </thead>\n",
       "  <tbody>\n",
       "    <tr>\n",
       "      <th>0</th>\n",
       "      <td>air_00a91d42b08b08d9_2017-04-23</td>\n",
       "      <td>0</td>\n",
       "      <td>2017-04-23</td>\n",
       "      <td>air_00a91d42b08b08d9</td>\n",
       "      <td>6</td>\n",
       "      <td>2017</td>\n",
       "      <td>4</td>\n",
       "      <td>0</td>\n",
       "      <td>6</td>\n",
       "      <td>34</td>\n",
       "      <td>6</td>\n",
       "      <td>44</td>\n",
       "      <td>35.694004</td>\n",
       "      <td>139.753601</td>\n",
       "      <td>2.0</td>\n",
       "      <td>2.000000</td>\n",
       "      <td>2.0</td>\n",
       "      <td>2.0</td>\n",
       "      <td>1.0</td>\n",
       "      <td>NaN</td>\n",
       "    </tr>\n",
       "    <tr>\n",
       "      <th>1</th>\n",
       "      <td>air_00a91d42b08b08d9_2017-04-24</td>\n",
       "      <td>0</td>\n",
       "      <td>2017-04-24</td>\n",
       "      <td>air_00a91d42b08b08d9</td>\n",
       "      <td>0</td>\n",
       "      <td>2017</td>\n",
       "      <td>4</td>\n",
       "      <td>0</td>\n",
       "      <td>5</td>\n",
       "      <td>35</td>\n",
       "      <td>6</td>\n",
       "      <td>44</td>\n",
       "      <td>35.694004</td>\n",
       "      <td>139.753601</td>\n",
       "      <td>1.0</td>\n",
       "      <td>22.457144</td>\n",
       "      <td>19.0</td>\n",
       "      <td>47.0</td>\n",
       "      <td>35.0</td>\n",
       "      <td>26.222269</td>\n",
       "    </tr>\n",
       "    <tr>\n",
       "      <th>2</th>\n",
       "      <td>air_00a91d42b08b08d9_2017-04-25</td>\n",
       "      <td>0</td>\n",
       "      <td>2017-04-25</td>\n",
       "      <td>air_00a91d42b08b08d9</td>\n",
       "      <td>1</td>\n",
       "      <td>2017</td>\n",
       "      <td>4</td>\n",
       "      <td>0</td>\n",
       "      <td>4</td>\n",
       "      <td>36</td>\n",
       "      <td>6</td>\n",
       "      <td>44</td>\n",
       "      <td>35.694004</td>\n",
       "      <td>139.753601</td>\n",
       "      <td>1.0</td>\n",
       "      <td>24.350000</td>\n",
       "      <td>24.5</td>\n",
       "      <td>43.0</td>\n",
       "      <td>40.0</td>\n",
       "      <td>28.152105</td>\n",
       "    </tr>\n",
       "    <tr>\n",
       "      <th>3</th>\n",
       "      <td>air_00a91d42b08b08d9_2017-04-26</td>\n",
       "      <td>0</td>\n",
       "      <td>2017-04-26</td>\n",
       "      <td>air_00a91d42b08b08d9</td>\n",
       "      <td>2</td>\n",
       "      <td>2017</td>\n",
       "      <td>4</td>\n",
       "      <td>0</td>\n",
       "      <td>3</td>\n",
       "      <td>37</td>\n",
       "      <td>6</td>\n",
       "      <td>44</td>\n",
       "      <td>35.694004</td>\n",
       "      <td>139.753601</td>\n",
       "      <td>15.0</td>\n",
       "      <td>28.125000</td>\n",
       "      <td>28.0</td>\n",
       "      <td>52.0</td>\n",
       "      <td>40.0</td>\n",
       "      <td>30.854063</td>\n",
       "    </tr>\n",
       "    <tr>\n",
       "      <th>4</th>\n",
       "      <td>air_00a91d42b08b08d9_2017-04-27</td>\n",
       "      <td>0</td>\n",
       "      <td>2017-04-27</td>\n",
       "      <td>air_00a91d42b08b08d9</td>\n",
       "      <td>3</td>\n",
       "      <td>2017</td>\n",
       "      <td>4</td>\n",
       "      <td>0</td>\n",
       "      <td>2</td>\n",
       "      <td>38</td>\n",
       "      <td>6</td>\n",
       "      <td>44</td>\n",
       "      <td>35.694004</td>\n",
       "      <td>139.753601</td>\n",
       "      <td>15.0</td>\n",
       "      <td>29.868422</td>\n",
       "      <td>30.0</td>\n",
       "      <td>47.0</td>\n",
       "      <td>38.0</td>\n",
       "      <td>31.470684</td>\n",
       "    </tr>\n",
       "  </tbody>\n",
       "</table>\n",
       "</div>"
      ],
      "text/plain": [
       "                                id  visitors visit_date          air_store_id  \\\n",
       "0  air_00a91d42b08b08d9_2017-04-23         0 2017-04-23  air_00a91d42b08b08d9   \n",
       "1  air_00a91d42b08b08d9_2017-04-24         0 2017-04-24  air_00a91d42b08b08d9   \n",
       "2  air_00a91d42b08b08d9_2017-04-25         0 2017-04-25  air_00a91d42b08b08d9   \n",
       "3  air_00a91d42b08b08d9_2017-04-26         0 2017-04-26  air_00a91d42b08b08d9   \n",
       "4  air_00a91d42b08b08d9_2017-04-27         0 2017-04-27  air_00a91d42b08b08d9   \n",
       "\n",
       "   dow  year  month  holiday_flg  days_until_holiday  days_since_holiday  \\\n",
       "0    6  2017      4            0                   6                  34   \n",
       "1    0  2017      4            0                   5                  35   \n",
       "2    1  2017      4            0                   4                  36   \n",
       "3    2  2017      4            0                   3                  37   \n",
       "4    3  2017      4            0                   2                  38   \n",
       "\n",
       "   air_genre_name  air_area_name   latitude   longitude  min_visitors  \\\n",
       "0               6             44  35.694004  139.753601           2.0   \n",
       "1               6             44  35.694004  139.753601           1.0   \n",
       "2               6             44  35.694004  139.753601           1.0   \n",
       "3               6             44  35.694004  139.753601          15.0   \n",
       "4               6             44  35.694004  139.753601          15.0   \n",
       "\n",
       "   mean_visitors  median_visitors  max_visitors  count_observations       ewma  \n",
       "0       2.000000              2.0           2.0                 1.0        NaN  \n",
       "1      22.457144             19.0          47.0                35.0  26.222269  \n",
       "2      24.350000             24.5          43.0                40.0  28.152105  \n",
       "3      28.125000             28.0          52.0                40.0  30.854063  \n",
       "4      29.868422             30.0          47.0                38.0  31.470684  "
      ]
     },
     "execution_count": 38,
     "metadata": {},
     "output_type": "execute_result"
    }
   ],
   "source": [
    "testWk1_pred.head()"
   ]
  },
  {
   "cell_type": "markdown",
   "metadata": {},
   "source": [
    "Command to put columns in the right order for the XGBoost prediction"
   ]
  },
  {
   "cell_type": "code",
   "execution_count": 39,
   "metadata": {},
   "outputs": [],
   "source": [
    "# NOTE: USE COLUMN LIST BELOW IF NOT INCLUDING VISITOR STATISTICS IN TRAINING SET\n",
    "\n",
    "#columnsForTest_df = ['dow', 'year', 'month', 'ewma', 'holiday_flg', 'days_until_holiday',\n",
    "#       'days_since_holiday', 'air_genre_name', 'air_area_name', 'latitude',\n",
    "#       'longitude']\n",
    "\n",
    "# NOTE: USE COLUMN LIST BELOW IF INCLUDING VISITOR STATISTICS IN TRAINING SET\n",
    "columnsForTest_df = ['dow', 'year', 'month', 'ewma', 'holiday_flg', 'days_until_holiday', 'days_since_holiday',\n",
    "                     'air_genre_name', 'air_area_name', 'latitude', 'longitude', 'min_visitors', 'mean_visitors',\n",
    "                     'median_visitors', 'max_visitors', 'count_observations']"
   ]
  },
  {
   "cell_type": "code",
   "execution_count": 40,
   "metadata": {},
   "outputs": [],
   "source": [
    "x_testWk1_pred = testWk1_pred.drop(['id','air_store_id','visit_date','visitors'],axis=1)\n",
    "x_testWk1_pred = x_testWk1_pred[columnsForTest_df]"
   ]
  },
  {
   "cell_type": "code",
   "execution_count": 41,
   "metadata": {},
   "outputs": [],
   "source": [
    "d_test = xgb.DMatrix(x_testWk1_pred)\n",
    "#del x_test; gc.collect()"
   ]
  },
  {
   "cell_type": "code",
   "execution_count": 42,
   "metadata": {},
   "outputs": [
    {
     "name": "stdout",
     "output_type": "stream",
     "text": [
      "Predicting on test ...\n"
     ]
    },
    {
     "data": {
      "text/plain": [
       "270"
      ]
     },
     "execution_count": 42,
     "metadata": {},
     "output_type": "execute_result"
    }
   ],
   "source": [
    "print('Predicting on test ...')\n",
    "p_test = clf.predict(d_test)\n",
    "del d_test; gc.collect()"
   ]
  },
  {
   "cell_type": "code",
   "execution_count": 43,
   "metadata": {},
   "outputs": [],
   "source": [
    "#testWk1_pred['visitors'] = np.expm1(p_test)\n",
    "testWk1_pred['visitors'] = p_test\n",
    "testWk1_pred[['id','visitors']].to_csv('xgb_submission_Wk1.csv', index=False, float_format='%.3f')"
   ]
  },
  {
   "cell_type": "markdown",
   "metadata": {},
   "source": [
    "### With test set Week 1 predicted, update ewma and assign to week 2"
   ]
  },
  {
   "cell_type": "code",
   "execution_count": 44,
   "metadata": {},
   "outputs": [],
   "source": [
    "train_testWk1_concat = testWk1_pred[train.columns]\n",
    "train_testWk1_concat = pd.concat([train, train_testWk1_concat])\n",
    "train_testWk1_concat = train_testWk1_concat.reset_index()\n",
    "tmp = train_testWk1_concat.groupby(['air_store_id','dow']).apply(lambda x: calc_shifted_ewm(x['visitors'],0.1))\n",
    "tmp = tmp.fillna(method='bfill')\n",
    "tmp.index = tmp.index.get_level_values(2)\n",
    "tmp = tmp.sort_index()"
   ]
  },
  {
   "cell_type": "code",
   "execution_count": 45,
   "metadata": {},
   "outputs": [],
   "source": [
    "train_testWk1_concat['ewma'] = tmp"
   ]
  },
  {
   "cell_type": "code",
   "execution_count": 46,
   "metadata": {},
   "outputs": [],
   "source": [
    "tmp = train_testWk1_concat[train_testWk1_concat['visit_date'] > testWk2.visit_date.min() - pd.to_timedelta(1, unit='d')]\n",
    "tmp = tmp[['air_store_id','visit_date','dow','ewma']]\n",
    "testWk2_pred = pd.merge(testWk2, tmp.drop('visit_date',axis=1),how='left',on=['air_store_id','dow'])\n",
    "testWk2_pred['ewma'] = testWk2_pred['ewma'].fillna(value=0)"
   ]
  },
  {
   "cell_type": "code",
   "execution_count": 47,
   "metadata": {},
   "outputs": [],
   "source": [
    "x_testWk2_pred = testWk2_pred.drop(['id','air_store_id','visit_date','visitors'],axis=1)\n",
    "x_testWk2_pred = x_testWk2_pred[columnsForTest_df]\n",
    "#x_testWk2_pred.columns"
   ]
  },
  {
   "cell_type": "code",
   "execution_count": 48,
   "metadata": {},
   "outputs": [],
   "source": [
    "d_test = xgb.DMatrix(x_testWk2_pred)\n",
    "#del x_test; gc.collect()"
   ]
  },
  {
   "cell_type": "code",
   "execution_count": 49,
   "metadata": {},
   "outputs": [
    {
     "name": "stdout",
     "output_type": "stream",
     "text": [
      "Predictin on test ...\n"
     ]
    },
    {
     "data": {
      "text/plain": [
       "104"
      ]
     },
     "execution_count": 49,
     "metadata": {},
     "output_type": "execute_result"
    }
   ],
   "source": [
    "print('Predictin on test ...')\n",
    "p_test = clf.predict(d_test)\n",
    "del d_test; gc.collect()"
   ]
  },
  {
   "cell_type": "code",
   "execution_count": 50,
   "metadata": {},
   "outputs": [],
   "source": [
    "testWk2_pred['visitors'] = p_test\n",
    "testWk2_pred[['id','visitors']].to_csv('xgb_submission_Wk2.csv',index=False,float_format='%.3f')"
   ]
  },
  {
   "cell_type": "markdown",
   "metadata": {},
   "source": [
    "### With test set Week 2 predicted, update ewma and assign to week 3"
   ]
  },
  {
   "cell_type": "code",
   "execution_count": 51,
   "metadata": {},
   "outputs": [],
   "source": [
    "train_testWk2_concat = testWk2_pred[train.columns]\n",
    "train_testWk2_concat = pd.concat([train_testWk1_concat, train_testWk2_concat])\n",
    "train_testWk2_concat = train_testWk2_concat.reset_index()\n",
    "tmp = train_testWk2_concat.groupby(['air_store_id','dow']).apply(lambda x: calc_shifted_ewm(x['visitors'],0.1))\n",
    "tmp = tmp.fillna(method='bfill')\n",
    "tmp.index = tmp.index.get_level_values(2)\n",
    "tmp = tmp.sort_index()"
   ]
  },
  {
   "cell_type": "code",
   "execution_count": 52,
   "metadata": {},
   "outputs": [],
   "source": [
    "train_testWk2_concat['ewma'] = tmp"
   ]
  },
  {
   "cell_type": "code",
   "execution_count": 53,
   "metadata": {},
   "outputs": [],
   "source": [
    "tmp = train_testWk2_concat[train_testWk2_concat['visit_date'] > testWk3.visit_date.min() - pd.to_timedelta(1, unit='d')]\n",
    "tmp = tmp[['air_store_id','visit_date','dow','ewma']]\n",
    "testWk3_pred = pd.merge(testWk3, tmp.drop('visit_date',axis=1),how='left',on=['air_store_id','dow'])\n",
    "testWk3_pred['ewma'] = testWk3_pred['ewma'].fillna(value=0)"
   ]
  },
  {
   "cell_type": "code",
   "execution_count": 54,
   "metadata": {},
   "outputs": [],
   "source": [
    "x_testWk3_pred = testWk3_pred.drop(['id','air_store_id','visit_date','visitors'],axis=1)\n",
    "x_testWk3_pred = x_testWk3_pred[columnsForTest_df]"
   ]
  },
  {
   "cell_type": "code",
   "execution_count": 55,
   "metadata": {},
   "outputs": [],
   "source": [
    "d_test = xgb.DMatrix(x_testWk3_pred)\n",
    "#del x_test; gc.collect()"
   ]
  },
  {
   "cell_type": "code",
   "execution_count": 56,
   "metadata": {},
   "outputs": [
    {
     "name": "stdout",
     "output_type": "stream",
     "text": [
      "Predictin on test ...\n"
     ]
    },
    {
     "data": {
      "text/plain": [
       "101"
      ]
     },
     "execution_count": 56,
     "metadata": {},
     "output_type": "execute_result"
    }
   ],
   "source": [
    "print('Predictin on test ...')\n",
    "p_test = clf.predict(d_test)\n",
    "del d_test; gc.collect()"
   ]
  },
  {
   "cell_type": "code",
   "execution_count": 57,
   "metadata": {},
   "outputs": [],
   "source": [
    "testWk3_pred['visitors'] = p_test\n",
    "testWk3_pred[['id','visitors']].to_csv('xgb_submission_Wk3.csv',index=False,float_format='%.3f')"
   ]
  },
  {
   "cell_type": "markdown",
   "metadata": {},
   "source": [
    "### With test set Week 3 predicted, update ewma and assign to week 4"
   ]
  },
  {
   "cell_type": "code",
   "execution_count": 58,
   "metadata": {},
   "outputs": [],
   "source": [
    "train_testWk3_concat = pd.concat([train_testWk2_concat[train.columns], testWk3_pred[train.columns]])\n",
    "train_testWk3_concat = train_testWk3_concat.reset_index()\n",
    "tmp = train_testWk3_concat.groupby(['air_store_id','dow']).apply(lambda x: calc_shifted_ewm(x['visitors'],0.1))\n",
    "tmp = tmp.fillna(method='bfill')\n",
    "tmp.index = tmp.index.get_level_values(2)\n",
    "tmp = tmp.sort_index()"
   ]
  },
  {
   "cell_type": "code",
   "execution_count": 59,
   "metadata": {},
   "outputs": [],
   "source": [
    "train_testWk3_concat['ewma'] = tmp"
   ]
  },
  {
   "cell_type": "code",
   "execution_count": 60,
   "metadata": {},
   "outputs": [],
   "source": [
    "tmp = train_testWk3_concat[train_testWk3_concat['visit_date'] > testWk4.visit_date.min() - pd.to_timedelta(1, unit='d')]\n",
    "tmp = tmp[['air_store_id','visit_date','dow','ewma']]\n",
    "testWk4_pred = pd.merge(testWk4, tmp.drop('visit_date',axis=1),how='left',on=['air_store_id','dow'])\n",
    "testWk4_pred['ewma'] = testWk4_pred['ewma'].fillna(value=0)"
   ]
  },
  {
   "cell_type": "code",
   "execution_count": 61,
   "metadata": {},
   "outputs": [],
   "source": [
    "x_testWk4_pred = testWk4_pred.drop(['id','air_store_id','visit_date','visitors'],axis=1)\n",
    "x_testWk4_pred = x_testWk4_pred[columnsForTest_df]"
   ]
  },
  {
   "cell_type": "code",
   "execution_count": 62,
   "metadata": {},
   "outputs": [],
   "source": [
    "d_test = xgb.DMatrix(x_testWk4_pred)\n",
    "#del x_test; gc.collect()"
   ]
  },
  {
   "cell_type": "code",
   "execution_count": 63,
   "metadata": {},
   "outputs": [
    {
     "name": "stdout",
     "output_type": "stream",
     "text": [
      "Predictin on test ...\n"
     ]
    },
    {
     "data": {
      "text/plain": [
       "101"
      ]
     },
     "execution_count": 63,
     "metadata": {},
     "output_type": "execute_result"
    }
   ],
   "source": [
    "print('Predictin on test ...')\n",
    "p_test = clf.predict(d_test)\n",
    "del d_test; gc.collect()"
   ]
  },
  {
   "cell_type": "code",
   "execution_count": 64,
   "metadata": {},
   "outputs": [],
   "source": [
    "testWk4_pred['visitors'] = p_test\n",
    "testWk4_pred[['id','visitors']].to_csv('xgb_submission_Wk4.csv',index=False,float_format='%.3f')"
   ]
  },
  {
   "cell_type": "markdown",
   "metadata": {},
   "source": [
    "### With test set Week 4 predicted, update ewma and assign to week 5"
   ]
  },
  {
   "cell_type": "code",
   "execution_count": 65,
   "metadata": {},
   "outputs": [],
   "source": [
    "train_testWk4_concat = pd.concat([train_testWk3_concat[train.columns], testWk4_pred[train.columns]])\n",
    "train_testWk4_concat = train_testWk4_concat.reset_index()\n",
    "tmp = train_testWk4_concat.groupby(['air_store_id','dow']).apply(lambda x: calc_shifted_ewm(x['visitors'],0.1))\n",
    "tmp = tmp.fillna(method='bfill')\n",
    "tmp.index = tmp.index.get_level_values(2)\n",
    "tmp = tmp.sort_index()"
   ]
  },
  {
   "cell_type": "code",
   "execution_count": 66,
   "metadata": {},
   "outputs": [],
   "source": [
    "train_testWk4_concat['ewma'] = tmp"
   ]
  },
  {
   "cell_type": "code",
   "execution_count": 67,
   "metadata": {},
   "outputs": [],
   "source": [
    "tmp = train_testWk4_concat[train_testWk4_concat['visit_date'] > testWk5.visit_date.min() - pd.to_timedelta(1, unit='d')]\n",
    "tmp = tmp[['air_store_id','visit_date','dow','ewma']]\n",
    "testWk5_pred = pd.merge(testWk5, tmp.drop('visit_date',axis=1),how='left',on=['air_store_id','dow'])\n",
    "testWk5_pred['ewma'] = testWk5_pred['ewma'].fillna(value=0)"
   ]
  },
  {
   "cell_type": "code",
   "execution_count": 68,
   "metadata": {},
   "outputs": [],
   "source": [
    "x_testWk5_pred = testWk5_pred.drop(['id','air_store_id','visit_date','visitors'],axis=1)\n",
    "x_testWk5_pred = x_testWk5_pred[columnsForTest_df]"
   ]
  },
  {
   "cell_type": "code",
   "execution_count": 69,
   "metadata": {},
   "outputs": [],
   "source": [
    "d_test = xgb.DMatrix(x_testWk5_pred)\n",
    "#del x_test; gc.collect()"
   ]
  },
  {
   "cell_type": "code",
   "execution_count": 70,
   "metadata": {},
   "outputs": [
    {
     "name": "stdout",
     "output_type": "stream",
     "text": [
      "Predictin on test ...\n"
     ]
    },
    {
     "data": {
      "text/plain": [
       "101"
      ]
     },
     "execution_count": 70,
     "metadata": {},
     "output_type": "execute_result"
    }
   ],
   "source": [
    "print('Predictin on test ...')\n",
    "p_test = clf.predict(d_test)\n",
    "del d_test; gc.collect()"
   ]
  },
  {
   "cell_type": "code",
   "execution_count": 71,
   "metadata": {},
   "outputs": [],
   "source": [
    "testWk5_pred['visitors'] = p_test\n",
    "testWk5_pred[['id','visitors']].to_csv('xgb_submission_Wk5.csv',index=False,float_format='%.3f')"
   ]
  },
  {
   "cell_type": "markdown",
   "metadata": {},
   "source": [
    "### With test set Week 5 predicted, update ewma and assign to week 6"
   ]
  },
  {
   "cell_type": "code",
   "execution_count": 72,
   "metadata": {},
   "outputs": [],
   "source": [
    "train_testWk5_concat = pd.concat([train_testWk4_concat[train.columns], testWk5_pred[train.columns]])\n",
    "train_testWk5_concat = train_testWk5_concat.reset_index()\n",
    "tmp = train_testWk5_concat.groupby(['air_store_id','dow']).apply(lambda x: calc_shifted_ewm(x['visitors'],0.1))\n",
    "tmp = tmp.fillna(method='bfill')\n",
    "tmp.index = tmp.index.get_level_values(2)\n",
    "tmp = tmp.sort_index()"
   ]
  },
  {
   "cell_type": "code",
   "execution_count": 73,
   "metadata": {},
   "outputs": [],
   "source": [
    "train_testWk5_concat['ewma'] = tmp"
   ]
  },
  {
   "cell_type": "code",
   "execution_count": 74,
   "metadata": {},
   "outputs": [],
   "source": [
    "tmp = train_testWk5_concat[train_testWk5_concat['visit_date'] > testWk6.visit_date.min() - pd.to_timedelta(1, unit='d')]\n",
    "tmp = tmp[['air_store_id','visit_date','dow','ewma']]\n",
    "testWk6_pred = pd.merge(testWk6, tmp.drop('visit_date',axis=1),how='left',on=['air_store_id','dow'])\n",
    "testWk6_pred['ewma'] = testWk6_pred['ewma'].fillna(value=0)"
   ]
  },
  {
   "cell_type": "code",
   "execution_count": 75,
   "metadata": {},
   "outputs": [],
   "source": [
    "x_testWk6_pred = testWk6_pred.drop(['id','air_store_id','visit_date','visitors'],axis=1)\n",
    "x_testWk6_pred = x_testWk6_pred[columnsForTest_df]"
   ]
  },
  {
   "cell_type": "code",
   "execution_count": 76,
   "metadata": {},
   "outputs": [],
   "source": [
    "d_test = xgb.DMatrix(x_testWk6_pred)\n",
    "#del x_test; gc.collect()"
   ]
  },
  {
   "cell_type": "code",
   "execution_count": 77,
   "metadata": {},
   "outputs": [
    {
     "name": "stdout",
     "output_type": "stream",
     "text": [
      "Predictin on test ...\n"
     ]
    },
    {
     "data": {
      "text/plain": [
       "101"
      ]
     },
     "execution_count": 77,
     "metadata": {},
     "output_type": "execute_result"
    }
   ],
   "source": [
    "print('Predictin on test ...')\n",
    "p_test = clf.predict(d_test)\n",
    "del d_test; gc.collect()"
   ]
  },
  {
   "cell_type": "code",
   "execution_count": 78,
   "metadata": {},
   "outputs": [],
   "source": [
    "testWk6_pred['visitors'] = p_test\n",
    "testWk6_pred[['id','visitors']].to_csv('xgb_submission_Wk6.csv',index=False,float_format='%.3f')"
   ]
  },
  {
   "cell_type": "markdown",
   "metadata": {},
   "source": [
    "### Compile all prediction csv and sort in order needed for submission"
   ]
  },
  {
   "cell_type": "code",
   "execution_count": 79,
   "metadata": {},
   "outputs": [],
   "source": [
    "pred_wk1 = pd.read_csv('xgb_submission_Wk1.csv')\n",
    "pred_wk2 = pd.read_csv('xgb_submission_Wk2.csv')\n",
    "pred_wk3 = pd.read_csv('xgb_submission_Wk3.csv')\n",
    "pred_wk4 = pd.read_csv('xgb_submission_Wk4.csv')\n",
    "pred_wk5 = pd.read_csv('xgb_submission_Wk5.csv')\n",
    "pred_wk6 = pd.read_csv('xgb_submission_Wk6.csv')"
   ]
  },
  {
   "cell_type": "code",
   "execution_count": 80,
   "metadata": {},
   "outputs": [],
   "source": [
    "compiled_predictions = pd.concat([pred_wk1,pred_wk2,pred_wk3,pred_wk4,pred_wk5,pred_wk6]).sort_values(by='id')"
   ]
  },
  {
   "cell_type": "code",
   "execution_count": 81,
   "metadata": {},
   "outputs": [],
   "source": [
    "compiled_predictions[['id','visitors']].to_csv('xgb_submission.csv',index=False,float_format='%.3f')"
   ]
  },
  {
   "cell_type": "markdown",
   "metadata": {},
   "source": [
    "# Check tree characteristics for hyperparameter turning"
   ]
  },
  {
   "cell_type": "code",
   "execution_count": null,
   "metadata": {},
   "outputs": [],
   "source": [
    "def modelfit(alg, dtrain, predictors, useTrainCV=True, cv_folds=5, early_stopping_rounds=50):\n",
    "    \n",
    "    if useTrainCV:\n",
    "        xgb_param = alg.get_xgb_params()\n",
    "        xgtrain = xgb.DMatrix(dtrain[predictors].values, label=dtrain.get_labels())\n",
    "        cvresult = xgb.cv(xgb_param, xgtrain, num_boost_round=alg.get_params()['n_estimators'], nfold=cv_folds,\n",
    "            metrics='rmse', early_stopping_rounds=early_stopping_rounds, show_progress=False)\n",
    "        alg.set_params(n_estimators=cvresult.shape[0])\n",
    "    \n",
    "    #Fit the algorithm on the data\n",
    "    alg.fit(dtrain[predictors], dtrain['Disbursed'],eval_metric='auc')\n",
    "        \n",
    "    #Predict training set:\n",
    "    dtrain_predictions = alg.predict(dtrain[predictors])\n",
    "    dtrain_predprob = alg.predict_proba(dtrain[predictors])[:,1]\n",
    "        \n",
    "    #Print model report:\n",
    "    print \"\\nModel Report\"\n",
    "    print \"Accuracy : %.4g\" % metrics.accuracy_score(dtrain['Disbursed'].values, dtrain_predictions)\n",
    "    print \"AUC Score (Train): %f\" % metrics.roc_auc_score(dtrain['Disbursed'], dtrain_predprob)\n",
    "                    \n",
    "    feat_imp = pd.Series(alg.booster().get_fscore()).sort_values(ascending=False)\n",
    "    feat_imp.plot(kind='bar', title='Feature Importances')\n",
    "    plt.ylabel('Feature Importance Score')"
   ]
  },
  {
   "cell_type": "code",
   "execution_count": 130,
   "metadata": {},
   "outputs": [
    {
     "ename": "AttributeError",
     "evalue": "'Booster' object has no attribute 'get_xgb_params'",
     "output_type": "error",
     "traceback": [
      "\u001b[0;31m---------------------------------------------------------------------------\u001b[0m",
      "\u001b[0;31mAttributeError\u001b[0m                            Traceback (most recent call last)",
      "\u001b[0;32m<ipython-input-130-86eab26260dd>\u001b[0m in \u001b[0;36m<module>\u001b[0;34m()\u001b[0m\n\u001b[0;32m----> 1\u001b[0;31m \u001b[0mclf\u001b[0m\u001b[1;33m.\u001b[0m\u001b[0mget_xgb_params\u001b[0m\u001b[1;33m(\u001b[0m\u001b[1;33m)\u001b[0m\u001b[1;33m\u001b[0m\u001b[0m\n\u001b[0m",
      "\u001b[0;31mAttributeError\u001b[0m: 'Booster' object has no attribute 'get_xgb_params'"
     ]
    }
   ],
   "source": [
    "clf.get_xgb_params()"
   ]
  },
  {
   "cell_type": "code",
   "execution_count": 128,
   "metadata": {},
   "outputs": [
    {
     "data": {
      "text/plain": [
       "array([ 3.25809654,  3.49650756,  3.40119738, ...,  3.29583687,\n",
       "        3.09104245,  3.61091791])"
      ]
     },
     "execution_count": 128,
     "metadata": {},
     "output_type": "execute_result"
    }
   ],
   "source": [
    "y_train"
   ]
  },
  {
   "cell_type": "code",
   "execution_count": null,
   "metadata": {},
   "outputs": [],
   "source": []
  }
 ],
 "metadata": {
  "anaconda-cloud": {},
  "kernelspec": {
   "display_name": "Python [conda env:Anaconda3]",
   "language": "python",
   "name": "conda-env-Anaconda3-py"
  },
  "language_info": {
   "codemirror_mode": {
    "name": "ipython",
    "version": 3
   },
   "file_extension": ".py",
   "mimetype": "text/x-python",
   "name": "python",
   "nbconvert_exporter": "python",
   "pygments_lexer": "ipython3",
   "version": "3.5.4"
  }
 },
 "nbformat": 4,
 "nbformat_minor": 1
}
